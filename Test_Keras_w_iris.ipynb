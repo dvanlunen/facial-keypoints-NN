{
 "cells": [
  {
   "cell_type": "code",
   "execution_count": 2,
   "metadata": {},
   "outputs": [
    {
     "name": "stderr",
     "output_type": "stream",
     "text": [
      "Using TensorFlow backend.\n"
     ]
    }
   ],
   "source": [
    "%matplotlib inline\n",
    "from keras.models import Sequential\n",
    "from keras.layers import Dense\n",
    "from sklearn import datasets\n",
    "from sklearn.model_selection import train_test_split\n",
    "from sklearn.preprocessing import OneHotEncoder\n",
    "from sklearn.metrics import confusion_matrix, classification_report\n",
    "import numpy as np\n",
    "import matplotlib.pyplot as plt\n",
    "import itertools\n",
    "from IPython.display import SVG\n",
    "from keras.utils.vis_utils import model_to_dot\n",
    "from keras.models import load_model\n"
   ]
  },
  {
   "cell_type": "code",
   "execution_count": 3,
   "metadata": {
    "collapsed": true
   },
   "outputs": [],
   "source": [
    "# build a model\n",
    "model = Sequential()\n",
    "model.add(Dense(units=2, activation='relu', input_dim=4))\n",
    "model.add(Dense(units=3, activation='softmax'))"
   ]
  },
  {
   "cell_type": "code",
   "execution_count": 4,
   "metadata": {
    "collapsed": true
   },
   "outputs": [],
   "source": [
    "model.compile(loss='categorical_crossentropy',\n",
    "              optimizer='sgd',\n",
    "              metrics=['accuracy'])"
   ]
  },
  {
   "cell_type": "code",
   "execution_count": 5,
   "metadata": {},
   "outputs": [
    {
     "name": "stdout",
     "output_type": "stream",
     "text": [
      "(120, 4)\n",
      "(30, 4)\n",
      "(120, 3)\n",
      "(30, 3)\n"
     ]
    }
   ],
   "source": [
    "iris = datasets.load_iris()\n",
    "X = iris.data\n",
    "y = iris.target.reshape(-1,1)\n",
    "enc = OneHotEncoder()\n",
    "enc.fit(y)\n",
    "y = enc.transform(y).toarray()\n",
    "\n",
    "\n",
    "X_train, X_test, y_train, y_test = train_test_split(\n",
    "    X, y, test_size=0.2, random_state=42)\n",
    "print(X_train.shape)\n",
    "print(X_test.shape)\n",
    "print(y_train.shape)\n",
    "print(y_test.shape)\n",
    "\n",
    "\n"
   ]
  },
  {
   "cell_type": "code",
   "execution_count": 6,
   "metadata": {
    "scrolled": true
   },
   "outputs": [
    {
     "name": "stdout",
     "output_type": "stream",
     "text": [
      "Epoch 1/100\n",
      "120/120 [==============================] - 1s 6ms/step - loss: 1.7332 - acc: 0.3333\n",
      "Epoch 2/100\n",
      "120/120 [==============================] - 0s 183us/step - loss: 1.4388 - acc: 0.3333\n",
      "Epoch 3/100\n",
      "120/120 [==============================] - 0s 217us/step - loss: 1.2919 - acc: 0.3333\n",
      "Epoch 4/100\n",
      "120/120 [==============================] - 0s 367us/step - loss: 1.2066 - acc: 0.3000\n",
      "Epoch 5/100\n",
      "120/120 [==============================] - 0s 208us/step - loss: 1.1563 - acc: 0.3417\n",
      "Epoch 6/100\n",
      "120/120 [==============================] - 0s 233us/step - loss: 1.1209 - acc: 0.3417\n",
      "Epoch 7/100\n",
      "120/120 [==============================] - 0s 242us/step - loss: 1.0967 - acc: 0.3417\n",
      "Epoch 8/100\n",
      "120/120 [==============================] - 0s 225us/step - loss: 1.0734 - acc: 0.3417\n",
      "Epoch 9/100\n",
      "120/120 [==============================] - 0s 217us/step - loss: 1.0551 - acc: 0.3500\n",
      "Epoch 10/100\n",
      "120/120 [==============================] - 0s 258us/step - loss: 1.0380 - acc: 0.4667\n",
      "Epoch 11/100\n",
      "120/120 [==============================] - 0s 367us/step - loss: 1.0224 - acc: 0.4583\n",
      "Epoch 12/100\n",
      "120/120 [==============================] - 0s 250us/step - loss: 1.0079 - acc: 0.3250\n",
      "Epoch 13/100\n",
      "120/120 [==============================] - 0s 283us/step - loss: 0.9918 - acc: 0.3250\n",
      "Epoch 14/100\n",
      "120/120 [==============================] - 0s 217us/step - loss: 0.9795 - acc: 0.3250\n",
      "Epoch 15/100\n",
      "120/120 [==============================] - 0s 242us/step - loss: 0.9671 - acc: 0.3250\n",
      "Epoch 16/100\n",
      "120/120 [==============================] - 0s 233us/step - loss: 0.9578 - acc: 0.3250\n",
      "Epoch 17/100\n",
      "120/120 [==============================] - 0s 275us/step - loss: 0.9457 - acc: 0.3250\n",
      "Epoch 18/100\n",
      "120/120 [==============================] - 0s 333us/step - loss: 0.9347 - acc: 0.3250\n",
      "Epoch 19/100\n",
      "120/120 [==============================] - 0s 275us/step - loss: 0.9249 - acc: 0.3250\n",
      "Epoch 20/100\n",
      "120/120 [==============================] - 0s 233us/step - loss: 0.9142 - acc: 0.3250\n",
      "Epoch 21/100\n",
      "120/120 [==============================] - 0s 250us/step - loss: 0.9041 - acc: 0.3250\n",
      "Epoch 22/100\n",
      "120/120 [==============================] - 0s 250us/step - loss: 0.8943 - acc: 0.3250\n",
      "Epoch 23/100\n",
      "120/120 [==============================] - 0s 267us/step - loss: 0.8847 - acc: 0.3250\n",
      "Epoch 24/100\n",
      "120/120 [==============================] - 0s 250us/step - loss: 0.8770 - acc: 0.3917\n",
      "Epoch 25/100\n",
      "120/120 [==============================] - 0s 317us/step - loss: 0.8687 - acc: 0.6333\n",
      "Epoch 26/100\n",
      "120/120 [==============================] - 0s 250us/step - loss: 0.8610 - acc: 0.6333\n",
      "Epoch 27/100\n",
      "120/120 [==============================] - 0s 258us/step - loss: 0.8544 - acc: 0.6333\n",
      "Epoch 28/100\n",
      "120/120 [==============================] - 0s 267us/step - loss: 0.8469 - acc: 0.6333\n",
      "Epoch 29/100\n",
      "120/120 [==============================] - 0s 250us/step - loss: 0.8412 - acc: 0.6333\n",
      "Epoch 30/100\n",
      "120/120 [==============================] - 0s 275us/step - loss: 0.8353 - acc: 0.6333\n",
      "Epoch 31/100\n",
      "120/120 [==============================] - ETA: 0s - loss: 0.8535 - acc: 0.562 - 0s 358us/step - loss: 0.8289 - acc: 0.6500\n",
      "Epoch 32/100\n",
      "120/120 [==============================] - 0s 267us/step - loss: 0.8229 - acc: 0.6417\n",
      "Epoch 33/100\n",
      "120/120 [==============================] - 0s 183us/step - loss: 0.8162 - acc: 0.6417\n",
      "Epoch 34/100\n",
      "120/120 [==============================] - 0s 275us/step - loss: 0.8102 - acc: 0.6583\n",
      "Epoch 35/100\n",
      "120/120 [==============================] - 0s 217us/step - loss: 0.8041 - acc: 0.6583\n",
      "Epoch 36/100\n",
      "120/120 [==============================] - 0s 275us/step - loss: 0.7976 - acc: 0.6583\n",
      "Epoch 37/100\n",
      "120/120 [==============================] - 0s 200us/step - loss: 0.7926 - acc: 0.6667\n",
      "Epoch 38/100\n",
      "120/120 [==============================] - 0s 258us/step - loss: 0.7875 - acc: 0.6583\n",
      "Epoch 39/100\n",
      "120/120 [==============================] - 0s 283us/step - loss: 0.7815 - acc: 0.6583\n",
      "Epoch 40/100\n",
      "120/120 [==============================] - 0s 408us/step - loss: 0.7742 - acc: 0.6667\n",
      "Epoch 41/100\n",
      "120/120 [==============================] - 0s 283us/step - loss: 0.7687 - acc: 0.6833\n",
      "Epoch 42/100\n",
      "120/120 [==============================] - 0s 267us/step - loss: 0.7622 - acc: 0.6833\n",
      "Epoch 43/100\n",
      "120/120 [==============================] - 0s 253us/step - loss: 0.7569 - acc: 0.6583\n",
      "Epoch 44/100\n",
      "120/120 [==============================] - 0s 242us/step - loss: 0.7509 - acc: 0.6583\n",
      "Epoch 45/100\n",
      "120/120 [==============================] - 0s 242us/step - loss: 0.7433 - acc: 0.7333\n",
      "Epoch 46/100\n",
      "120/120 [==============================] - 0s 300us/step - loss: 0.7384 - acc: 0.6583\n",
      "Epoch 47/100\n",
      "120/120 [==============================] - 0s 258us/step - loss: 0.7324 - acc: 0.7667\n",
      "Epoch 48/100\n",
      "120/120 [==============================] - 0s 350us/step - loss: 0.7250 - acc: 0.6667\n",
      "Epoch 49/100\n",
      "120/120 [==============================] - 0s 233us/step - loss: 0.7183 - acc: 0.7000\n",
      "Epoch 50/100\n",
      "120/120 [==============================] - 0s 258us/step - loss: 0.7135 - acc: 0.7417\n",
      "Epoch 51/100\n",
      "120/120 [==============================] - 0s 283us/step - loss: 0.7062 - acc: 0.6833\n",
      "Epoch 52/100\n",
      "120/120 [==============================] - 0s 258us/step - loss: 0.7009 - acc: 0.6917\n",
      "Epoch 53/100\n",
      "120/120 [==============================] - 0s 192us/step - loss: 0.6997 - acc: 0.7333\n",
      "Epoch 54/100\n",
      "120/120 [==============================] - 0s 250us/step - loss: 0.6891 - acc: 0.6667\n",
      "Epoch 55/100\n",
      "120/120 [==============================] - 0s 225us/step - loss: 0.6820 - acc: 0.7250\n",
      "Epoch 56/100\n",
      "120/120 [==============================] - 0s 250us/step - loss: 0.6776 - acc: 0.6750\n",
      "Epoch 57/100\n",
      "120/120 [==============================] - 0s 258us/step - loss: 0.6703 - acc: 0.8083\n",
      "Epoch 58/100\n",
      "120/120 [==============================] - 0s 258us/step - loss: 0.6655 - acc: 0.8083\n",
      "Epoch 59/100\n",
      "120/120 [==============================] - 0s 267us/step - loss: 0.6582 - acc: 0.7167\n",
      "Epoch 60/100\n",
      "120/120 [==============================] - 0s 258us/step - loss: 0.6535 - acc: 0.7000\n",
      "Epoch 61/100\n",
      "120/120 [==============================] - 0s 350us/step - loss: 0.6473 - acc: 0.8167\n",
      "Epoch 62/100\n",
      "120/120 [==============================] - 0s 333us/step - loss: 0.6439 - acc: 0.7333\n",
      "Epoch 63/100\n",
      "120/120 [==============================] - 0s 192us/step - loss: 0.6359 - acc: 0.7583\n",
      "Epoch 64/100\n",
      "120/120 [==============================] - 0s 417us/step - loss: 0.6341 - acc: 0.8000\n",
      "Epoch 65/100\n",
      "120/120 [==============================] - 0s 283us/step - loss: 0.6255 - acc: 0.7833\n",
      "Epoch 66/100\n",
      "120/120 [==============================] - 0s 308us/step - loss: 0.6195 - acc: 0.7333\n",
      "Epoch 67/100\n",
      "120/120 [==============================] - 0s 208us/step - loss: 0.6149 - acc: 0.7917\n",
      "Epoch 68/100\n",
      "120/120 [==============================] - 0s 358us/step - loss: 0.6086 - acc: 0.8083\n",
      "Epoch 69/100\n",
      "120/120 [==============================] - 0s 317us/step - loss: 0.6048 - acc: 0.7583\n",
      "Epoch 70/100\n",
      "120/120 [==============================] - 0s 283us/step - loss: 0.6023 - acc: 0.8167\n",
      "Epoch 71/100\n",
      "120/120 [==============================] - 0s 233us/step - loss: 0.5939 - acc: 0.7583\n",
      "Epoch 72/100\n",
      "120/120 [==============================] - 0s 250us/step - loss: 0.5889 - acc: 0.8083\n",
      "Epoch 73/100\n",
      "120/120 [==============================] - 0s 258us/step - loss: 0.5902 - acc: 0.8167\n",
      "Epoch 74/100\n",
      "120/120 [==============================] - 0s 292us/step - loss: 0.5829 - acc: 0.7500\n",
      "Epoch 75/100\n",
      "120/120 [==============================] - 0s 292us/step - loss: 0.5745 - acc: 0.8250\n",
      "Epoch 76/100\n",
      "120/120 [==============================] - 0s 183us/step - loss: 0.5720 - acc: 0.8417\n",
      "Epoch 77/100\n",
      "120/120 [==============================] - 0s 250us/step - loss: 0.5661 - acc: 0.8083\n",
      "Epoch 78/100\n",
      "120/120 [==============================] - 0s 225us/step - loss: 0.5618 - acc: 0.8250\n",
      "Epoch 79/100\n",
      "120/120 [==============================] - 0s 308us/step - loss: 0.5567 - acc: 0.8250\n",
      "Epoch 80/100\n",
      "120/120 [==============================] - 0s 317us/step - loss: 0.5522 - acc: 0.8417\n",
      "Epoch 81/100\n",
      "120/120 [==============================] - 0s 250us/step - loss: 0.5538 - acc: 0.8250\n",
      "Epoch 82/100\n",
      "120/120 [==============================] - 0s 275us/step - loss: 0.5449 - acc: 0.8583\n",
      "Epoch 83/100\n"
     ]
    },
    {
     "name": "stdout",
     "output_type": "stream",
     "text": [
      "120/120 [==============================] - 0s 258us/step - loss: 0.5416 - acc: 0.8583\n",
      "Epoch 84/100\n",
      "120/120 [==============================] - 0s 292us/step - loss: 0.5379 - acc: 0.9083\n",
      "Epoch 85/100\n",
      "120/120 [==============================] - 0s 217us/step - loss: 0.5336 - acc: 0.8333\n",
      "Epoch 86/100\n",
      "120/120 [==============================] - 0s 200us/step - loss: 0.5318 - acc: 0.8833\n",
      "Epoch 87/100\n",
      "120/120 [==============================] - 0s 292us/step - loss: 0.5252 - acc: 0.8667\n",
      "Epoch 88/100\n",
      "120/120 [==============================] - 0s 258us/step - loss: 0.5321 - acc: 0.8333\n",
      "Epoch 89/100\n",
      "120/120 [==============================] - 0s 192us/step - loss: 0.5194 - acc: 0.8833\n",
      "Epoch 90/100\n",
      "120/120 [==============================] - 0s 200us/step - loss: 0.5165 - acc: 0.8833\n",
      "Epoch 91/100\n",
      "120/120 [==============================] - 0s 300us/step - loss: 0.5144 - acc: 0.8000\n",
      "Epoch 92/100\n",
      "120/120 [==============================] - 0s 242us/step - loss: 0.5076 - acc: 0.8583\n",
      "Epoch 93/100\n",
      "120/120 [==============================] - 0s 183us/step - loss: 0.5048 - acc: 0.8917\n",
      "Epoch 94/100\n",
      "120/120 [==============================] - 0s 183us/step - loss: 0.5024 - acc: 0.9333\n",
      "Epoch 95/100\n",
      "120/120 [==============================] - 0s 258us/step - loss: 0.5070 - acc: 0.8833\n",
      "Epoch 96/100\n",
      "120/120 [==============================] - 0s 192us/step - loss: 0.4966 - acc: 0.8917\n",
      "Epoch 97/100\n",
      "120/120 [==============================] - 0s 233us/step - loss: 0.4956 - acc: 0.8250\n",
      "Epoch 98/100\n",
      "120/120 [==============================] - 0s 242us/step - loss: 0.4887 - acc: 0.8167\n",
      "Epoch 99/100\n",
      "120/120 [==============================] - 0s 250us/step - loss: 0.4879 - acc: 0.9500\n",
      "Epoch 100/100\n",
      "120/120 [==============================] - 0s 275us/step - loss: 0.4815 - acc: 0.8833\n"
     ]
    },
    {
     "data": {
      "text/plain": [
       "<keras.callbacks.History at 0x2d5790e17f0>"
      ]
     },
     "execution_count": 6,
     "metadata": {},
     "output_type": "execute_result"
    }
   ],
   "source": [
    "model.fit(X_train, y_train, epochs=100, batch_size=32)"
   ]
  },
  {
   "cell_type": "code",
   "execution_count": 25,
   "metadata": {
    "collapsed": true
   },
   "outputs": [],
   "source": [
    "def plot_confusion_matrix(cm, classes,\n",
    "                          normalize=False,\n",
    "                          title='Confusion matrix',\n",
    "                          cmap=plt.cm.Blues):\n",
    "    \"\"\"\n",
    "    This function prints and plots the confusion matrix.\n",
    "    Normalization can be applied by setting `normalize=True`.\n",
    "    \"\"\"\n",
    "    if normalize:\n",
    "        cm = cm.astype('float') / cm.sum(axis=1)[:, np.newaxis]\n",
    "        print(\"Normalized confusion matrix\")\n",
    "    else:\n",
    "        print('Confusion matrix, without normalization')\n",
    "\n",
    "    print(cm)\n",
    "\n",
    "    plt.imshow(cm, interpolation='nearest', cmap=cmap)\n",
    "    plt.title(title)\n",
    "    plt.colorbar()\n",
    "    tick_marks = np.arange(len(classes))\n",
    "    plt.xticks(tick_marks, classes, rotation=45)\n",
    "    plt.yticks(tick_marks, classes)\n",
    "\n",
    "    fmt = '.2f' if normalize else 'd'\n",
    "    thresh = cm.max() / 2.\n",
    "    for i, j in itertools.product(range(cm.shape[0]), range(cm.shape[1])):\n",
    "        plt.text(j, i, format(cm[i, j], fmt),\n",
    "                 horizontalalignment=\"center\",\n",
    "                 color=\"white\" if cm[i, j] > thresh else \"black\")\n",
    "\n",
    "    plt.tight_layout()\n",
    "    plt.ylabel('True label')\n",
    "    plt.xlabel('Predicted label')"
   ]
  },
  {
   "cell_type": "code",
   "execution_count": 28,
   "metadata": {},
   "outputs": [
    {
     "name": "stdout",
     "output_type": "stream",
     "text": [
      "             precision    recall  f1-score   support\n",
      "\n",
      "     setosa       1.00      1.00      1.00        10\n",
      " versicolor       0.00      0.00      0.00         9\n",
      "  virginica       0.55      1.00      0.71        11\n",
      "\n",
      "avg / total       0.54      0.70      0.59        30\n",
      "\n",
      "Confusion matrix, without normalization\n",
      "[[10  0  0]\n",
      " [ 0  0  9]\n",
      " [ 0  0 11]]\n",
      "Normalized confusion matrix\n",
      "[[ 1.  0.  0.]\n",
      " [ 0.  0.  1.]\n",
      " [ 0.  0.  1.]]\n"
     ]
    },
    {
     "name": "stderr",
     "output_type": "stream",
     "text": [
      "D:\\Anaconda2\\envs\\tensorflow\\lib\\site-packages\\sklearn\\metrics\\classification.py:1135: UndefinedMetricWarning: Precision and F-score are ill-defined and being set to 0.0 in labels with no predicted samples.\n",
      "  'precision', 'predicted', average, warn_for)\n"
     ]
    },
    {
     "data": {
      "image/png": "[encoded data removed]",
      "text/plain": [
       "<matplotlib.figure.Figure at 0x1457fc5fe80>"
      ]
     },
     "metadata": {},
     "output_type": "display_data"
    },
    {
     "data": {
      "image/png": "[encoded data removed]",
      "text/plain": [
       "<matplotlib.figure.Figure at 0x1457fdb8518>"
      ]
     },
     "metadata": {},
     "output_type": "display_data"
    }
   ],
   "source": [
    "y_pred = model.predict_classes(X_test)\n",
    "y_true = np.argmax(y_test, axis=1)\n",
    "\n",
    "print(classification_report(y_true,y_pred,target_names=iris.target_names))\n",
    "cnf_matrix =confusion_matrix(y_true,y_pred)\n",
    "# Plot non-normalized confusion matrix\n",
    "plt.figure()\n",
    "plot_confusion_matrix(cnf_matrix, classes=iris.target_names,\n",
    "                      title='Confusion matrix, without normalization')\n",
    "\n",
    "# Plot normalized confusion matrix\n",
    "plt.figure()\n",
    "plot_confusion_matrix(cnf_matrix, classes=iris.target_names, normalize=True,\n",
    "                      title='Normalized confusion matrix')\n",
    "\n",
    "plt.show()"
   ]
  },
  {
   "cell_type": "code",
   "execution_count": 13,
   "metadata": {},
   "outputs": [
    {
     "data": {
      "image/svg+xml": [
       "<svg height=\"221pt\" viewBox=\"0.00 0.00 300.00 221.00\" width=\"300pt\" xmlns=\"http://www.w3.org/2000/svg\" xmlns:xlink=\"http://www.w3.org/1999/xlink\">\n",
       "<g class=\"graph\" id=\"graph0\" transform=\"scale(1 1) rotate(0) translate(4 217)\">\n",
       "<title>G</title>\n",
       "<polygon fill=\"white\" points=\"-4,4 -4,-217 296,-217 296,4 -4,4\" stroke=\"none\"/>\n",
       "<!-- 1397968845792 -->\n",
       "<g class=\"node\" id=\"node1\"><title>1397968845792</title>\n",
       "<polygon fill=\"none\" points=\"0,-166.5 0,-212.5 292,-212.5 292,-166.5 0,-166.5\" stroke=\"black\"/>\n",
       "<text font-family=\"Times New Roman,serif\" font-size=\"14.00\" text-anchor=\"middle\" x=\"83\" y=\"-185.8\">dense_1_input: InputLayer</text>\n",
       "<polyline fill=\"none\" points=\"166,-166.5 166,-212.5 \" stroke=\"black\"/>\n",
       "<text font-family=\"Times New Roman,serif\" font-size=\"14.00\" text-anchor=\"middle\" x=\"194\" y=\"-197.3\">input:</text>\n",
       "<polyline fill=\"none\" points=\"166,-189.5 222,-189.5 \" stroke=\"black\"/>\n",
       "<text font-family=\"Times New Roman,serif\" font-size=\"14.00\" text-anchor=\"middle\" x=\"194\" y=\"-174.3\">output:</text>\n",
       "<polyline fill=\"none\" points=\"222,-166.5 222,-212.5 \" stroke=\"black\"/>\n",
       "<text font-family=\"Times New Roman,serif\" font-size=\"14.00\" text-anchor=\"middle\" x=\"257\" y=\"-197.3\">(None, 4)</text>\n",
       "<polyline fill=\"none\" points=\"222,-189.5 292,-189.5 \" stroke=\"black\"/>\n",
       "<text font-family=\"Times New Roman,serif\" font-size=\"14.00\" text-anchor=\"middle\" x=\"257\" y=\"-174.3\">(None, 4)</text>\n",
       "</g>\n",
       "<!-- 1397863419072 -->\n",
       "<g class=\"node\" id=\"node2\"><title>1397863419072</title>\n",
       "<polygon fill=\"none\" points=\"31,-83.5 31,-129.5 261,-129.5 261,-83.5 31,-83.5\" stroke=\"black\"/>\n",
       "<text font-family=\"Times New Roman,serif\" font-size=\"14.00\" text-anchor=\"middle\" x=\"83\" y=\"-102.8\">dense_1: Dense</text>\n",
       "<polyline fill=\"none\" points=\"135,-83.5 135,-129.5 \" stroke=\"black\"/>\n",
       "<text font-family=\"Times New Roman,serif\" font-size=\"14.00\" text-anchor=\"middle\" x=\"163\" y=\"-114.3\">input:</text>\n",
       "<polyline fill=\"none\" points=\"135,-106.5 191,-106.5 \" stroke=\"black\"/>\n",
       "<text font-family=\"Times New Roman,serif\" font-size=\"14.00\" text-anchor=\"middle\" x=\"163\" y=\"-91.3\">output:</text>\n",
       "<polyline fill=\"none\" points=\"191,-83.5 191,-129.5 \" stroke=\"black\"/>\n",
       "<text font-family=\"Times New Roman,serif\" font-size=\"14.00\" text-anchor=\"middle\" x=\"226\" y=\"-114.3\">(None, 4)</text>\n",
       "<polyline fill=\"none\" points=\"191,-106.5 261,-106.5 \" stroke=\"black\"/>\n",
       "<text font-family=\"Times New Roman,serif\" font-size=\"14.00\" text-anchor=\"middle\" x=\"226\" y=\"-91.3\">(None, 2)</text>\n",
       "</g>\n",
       "<!-- 1397968845792&#45;&gt;1397863419072 -->\n",
       "<g class=\"edge\" id=\"edge1\"><title>1397968845792-&gt;1397863419072</title>\n",
       "<path d=\"M146,-166.366C146,-158.152 146,-148.658 146,-139.725\" fill=\"none\" stroke=\"black\"/>\n",
       "<polygon fill=\"black\" points=\"149.5,-139.607 146,-129.607 142.5,-139.607 149.5,-139.607\" stroke=\"black\"/>\n",
       "</g>\n",
       "<!-- 1397872140808 -->\n",
       "<g class=\"node\" id=\"node3\"><title>1397872140808</title>\n",
       "<polygon fill=\"none\" points=\"31,-0.5 31,-46.5 261,-46.5 261,-0.5 31,-0.5\" stroke=\"black\"/>\n",
       "<text font-family=\"Times New Roman,serif\" font-size=\"14.00\" text-anchor=\"middle\" x=\"83\" y=\"-19.8\">dense_2: Dense</text>\n",
       "<polyline fill=\"none\" points=\"135,-0.5 135,-46.5 \" stroke=\"black\"/>\n",
       "<text font-family=\"Times New Roman,serif\" font-size=\"14.00\" text-anchor=\"middle\" x=\"163\" y=\"-31.3\">input:</text>\n",
       "<polyline fill=\"none\" points=\"135,-23.5 191,-23.5 \" stroke=\"black\"/>\n",
       "<text font-family=\"Times New Roman,serif\" font-size=\"14.00\" text-anchor=\"middle\" x=\"163\" y=\"-8.3\">output:</text>\n",
       "<polyline fill=\"none\" points=\"191,-0.5 191,-46.5 \" stroke=\"black\"/>\n",
       "<text font-family=\"Times New Roman,serif\" font-size=\"14.00\" text-anchor=\"middle\" x=\"226\" y=\"-31.3\">(None, 2)</text>\n",
       "<polyline fill=\"none\" points=\"191,-23.5 261,-23.5 \" stroke=\"black\"/>\n",
       "<text font-family=\"Times New Roman,serif\" font-size=\"14.00\" text-anchor=\"middle\" x=\"226\" y=\"-8.3\">(None, 3)</text>\n",
       "</g>\n",
       "<!-- 1397863419072&#45;&gt;1397872140808 -->\n",
       "<g class=\"edge\" id=\"edge2\"><title>1397863419072-&gt;1397872140808</title>\n",
       "<path d=\"M146,-83.3664C146,-75.1516 146,-65.6579 146,-56.7252\" fill=\"none\" stroke=\"black\"/>\n",
       "<polygon fill=\"black\" points=\"149.5,-56.6068 146,-46.6068 142.5,-56.6069 149.5,-56.6068\" stroke=\"black\"/>\n",
       "</g>\n",
       "</g>\n",
       "</svg>"
      ],
      "text/plain": [
       "<IPython.core.display.SVG object>"
      ]
     },
     "execution_count": 13,
     "metadata": {},
     "output_type": "execute_result"
    }
   ],
   "source": [
    "SVG(model_to_dot(model, show_shapes=True).create(prog='dot', format='svg'))\n"
   ]
  },
  {
   "cell_type": "code",
   "execution_count": 27,
   "metadata": {
    "collapsed": true
   },
   "outputs": [],
   "source": [
    "model.save('irismodel.h5')\n",
    "\n",
    "model = load_model('irismodel.h5')"
   ]
  },
  {
   "cell_type": "code",
   "execution_count": 7,
   "metadata": {},
   "outputs": [
    {
     "data": {
      "text/plain": [
       "['/job:localhost/replica:0/task:0/device:GPU:0']"
      ]
     },
     "execution_count": 7,
     "metadata": {},
     "output_type": "execute_result"
    }
   ],
   "source": []
  }
 ],
 "metadata": {
  "kernelspec": {
   "display_name": "Python 3",
   "language": "python",
   "name": "python3"
  },
  "language_info": {
   "codemirror_mode": {
    "name": "ipython",
    "version": 3
   },
   "file_extension": ".py",
   "mimetype": "text/x-python",
   "name": "python",
   "nbconvert_exporter": "python",
   "pygments_lexer": "ipython3",
   "version": "3.6.2"
  }
 },
 "nbformat": 4,
 "nbformat_minor": 2
}
