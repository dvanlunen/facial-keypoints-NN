{
 "cells": [
  {
   "cell_type": "code",
   "execution_count": 50,
   "metadata": {},
   "outputs": [],
   "source": [
    "%matplotlib inline\n",
    "from pandas.io.parsers import read_csv\n",
    "import os\n",
    "import numpy as np\n",
    "\n",
    "from keras.models import Sequential\n",
    "from keras.layers import Dense, Conv2D, MaxPooling2D, Flatten, Dropout\n",
    "from keras.optimizers import SGD\n",
    "from keras.callbacks import EarlyStopping, LearningRateScheduler\n",
    "from sklearn.model_selection import train_test_split\n",
    "import matplotlib.pyplot as plt"
   ]
  },
  {
   "cell_type": "code",
   "execution_count": 2,
   "metadata": {},
   "outputs": [],
   "source": [
    "TRAIN_DATA = '../data/training.csv'\n",
    "TEST_DATA = '../data/test.csv'\n",
    "IMAGE_ROWS = 96\n",
    "IMAGE_COLS = 96\n",
    "\n",
    "\n"
   ]
  },
  {
   "cell_type": "code",
   "execution_count": 3,
   "metadata": {},
   "outputs": [],
   "source": [
    "def loader(test=False, seed=None, keeplabels=None):\n",
    "    if seed:\n",
    "        np.random.seed(seed)\n",
    "    fileloc = TEST_DATA if test else TRAIN_DATA\n",
    "    \n",
    "    df = read_csv(fileloc)\n",
    "    \n",
    "    df['Image'] = df['Image'].apply(lambda x: np.fromstring(x, sep=' '))\n",
    "    \n",
    "    if keeplabels:\n",
    "        df = df[list(keeplabels) + ['Image']]\n",
    "        \n",
    "    df = df.dropna() # drop rows with missing labels\n",
    "    \n",
    "    X = np.vstack(df['Image'])/255\n",
    "    X = X.astype(np.float32)\n",
    "    \n",
    "    if not test:\n",
    "        y = df[df.columns.difference(['Image'])].values\n",
    "        y = y.astype(np.float32)\n",
    "        shuffle = np.random.permutation(np.arange(X.shape[0]))\n",
    "        X, y = X[shuffle], y[shuffle]\n",
    "    else:\n",
    "        y = None\n",
    "    \n",
    "    X = X.reshape(-1, 96, 96, 1)\n",
    "\n",
    "    return X, y\n"
   ]
  },
  {
   "cell_type": "code",
   "execution_count": 4,
   "metadata": {},
   "outputs": [],
   "source": [
    "X, y = loader(seed=42)\n",
    "X_train, X_test, y_train, y_test = train_test_split(X, y,\n",
    "                                                        test_size=0.2,\n",
    "                                                        random_state=42)\n"
   ]
  },
  {
   "cell_type": "code",
   "execution_count": 5,
   "metadata": {},
   "outputs": [
    {
     "name": "stdout",
     "output_type": "stream",
     "text": [
      "0\n"
     ]
    }
   ],
   "source": [
    "# print((X_train.shape))\n",
    "# print((y_train.shape))\n",
    "print(np.sum(np.isnan(y_test)))\n",
    "\n"
   ]
  },
  {
   "cell_type": "code",
   "execution_count": 49,
   "metadata": {},
   "outputs": [
    {
     "data": {
      "image/png": "[encoded data removed]",
      "text/plain": [
       "<matplotlib.figure.Figure at 0x25785d05c88>"
      ]
     },
     "metadata": {},
     "output_type": "display_data"
    }
   ],
   "source": [
    "def plot_image(image, points):\n",
    "    plt.figure(figsize=(8,8))\n",
    "    plt.imshow(np.reshape(image,(96,96)), cmap = 'gray')\n",
    "    \n",
    "    for x, y in np.reshape(points,(len(points)//2, 2)):\n",
    "        plt.plot(x, y, 'rx')\n",
    "    plt.axis('off')\n",
    "    \n",
    "plot_image(X_train[0],y_train[0])\n",
    "\n"
   ]
  },
  {
   "cell_type": "code",
   "execution_count": 7,
   "metadata": {},
   "outputs": [],
   "source": [
    "# try a LeNet Architecture - not tested yet\n",
    "def make_lenet():\n",
    "    input_shape = (IMAGE_ROWS, IMAGE_COLS, 1)\n",
    "    LeNet = Sequential()\n",
    "    LeNet.add(Conv2D(32,\n",
    "                     (3, 3),\n",
    "                     activation='relu',\n",
    "                    input_shape=input_shape))\n",
    "    LeNet.add(MaxPooling2D(pool_size=(2, 2)))\n",
    "    LeNet.add(Dropout(.1))\n",
    "\n",
    "#     LeNet.add(Conv2D(filters=64,\n",
    "#                      kernel_size=(2, 2),\n",
    "#                      activation='relu',\n",
    "#                     input_shape=input_shape))\n",
    "#     LeNet.add(MaxPooling2D(pool_size=(2, 2)))\n",
    "#     LeNet.add(Dropout(.2))\n",
    "    LeNet.add(Flatten())\n",
    "    LeNet.add(Dense(270, activation = \"relu\"))\n",
    "    LeNet.add(Dropout(0.5))\n",
    "    LeNet.add(Dense(90, activation = \"tanh\"))\n",
    "    LeNet.add(Dropout(0.5))\n",
    "    LeNet.add(Dense(30))\n",
    "    \n",
    "    return LeNet\n"
   ]
  },
  {
   "cell_type": "code",
   "execution_count": 34,
   "metadata": {},
   "outputs": [],
   "source": [
    "def fit_model(model=None, data=None):\n",
    "    learning_rate = .001\n",
    "    epochs = 10\n",
    "    if not data:\n",
    "        print('getting data')\n",
    "        X, y = loader(seed=42)\n",
    "        X_train, X_test, y_train, y_test = train_test_split(X, y,\n",
    "                                                        test_size=0.2,\n",
    "                                                        random_state=42)\n",
    "    elif len(data)==4:\n",
    "        X_train = data[0]\n",
    "        X_test = data[1]\n",
    "        y_train = data[2]\n",
    "        y_test = data[3]\n",
    "    else:\n",
    "        raise ValueError('unexpected data input')\n",
    "        \n",
    "    if not model:\n",
    "        model = make_lenet()\n",
    "   # sgd = SGD(lr=learning_rate, momentum=0.9, nesterov=True)\n",
    "    model.compile(loss='mse', optimizer='sgd')\n",
    "    # change_lr = LearningRateScheduler(lambda epoch: float(learning_rate[epoch]))\n",
    "\n",
    "    # flipgen = FlippedImageDataGenerator()\n",
    "#     hist = model.fit_generator(X_train, y_train,\n",
    "#                             steps_per_epoch=X_train.shape[0],\n",
    "#                             nb_epoch=epochs,\n",
    "#                             validation_data=(X_test, y_test),\n",
    "#                             callbacks=[early_stop])\n",
    "\n",
    "    model.fit(X_train, y_train, epochs=epochs, batch_size=100,\n",
    "             validation_data=(X_test, y_test)\n",
    "             )"
   ]
  },
  {
   "cell_type": "code",
   "execution_count": 52,
   "metadata": {},
   "outputs": [],
   "source": [
    "# def plot_loss():\n",
    "#     loss = np.loadtxt('my_cnn_model_loss.csv')\n",
    "#     val_loss = np.loadtxt('my_cnn_model_val_loss.csv')\n",
    "\n",
    "#     plt.plot(loss, linewidth=3, label='train')\n",
    "#     plt.plot(val_loss, linewidth=3, label='valid')\n",
    "#     plt.grid()\n",
    "#     plt.legend()\n",
    "#     plt.xlabel('epoch')\n",
    "#     plt.ylabel('loss')\n",
    "#     plt.ylim(1e-3, 1e-2)\n",
    "#     plt.yscale('log')\n",
    "#     plt.show()"
   ]
  },
  {
   "cell_type": "code",
   "execution_count": 33,
   "metadata": {},
   "outputs": [],
   "source": [
    "X, y = loader(seed=42)\n",
    "X_train, X_test, y_train, y_test = train_test_split(X, y,\n",
    "                                                    test_size=0.2,\n",
    "                                                    random_state=42)\n",
    "data=[X_train, X_test, y_train, y_test]"
   ]
  },
  {
   "cell_type": "code",
   "execution_count": 35,
   "metadata": {},
   "outputs": [
    {
     "name": "stdout",
     "output_type": "stream",
     "text": [
      "Train on 1712 samples, validate on 428 samples\n",
      "Epoch 1/10\n",
      "1712/1712 [==============================] - 7s 4ms/step - loss: 1936.2233 - val_loss: 1265.8558\n",
      "Epoch 2/10\n",
      "1712/1712 [==============================] - 7s 4ms/step - loss: 919.4686 - val_loss: 603.5109\n",
      "Epoch 3/10\n",
      "1712/1712 [==============================] - 7s 4ms/step - loss: 438.5161 - val_loss: 291.0625\n",
      "Epoch 4/10\n",
      "1712/1712 [==============================] - 7s 4ms/step - loss: 212.1195 - val_loss: 143.5686\n",
      "Epoch 5/10\n",
      "1712/1712 [==============================] - 7s 4ms/step - loss: 105.5383 - val_loss: 73.4051\n",
      "Epoch 6/10\n",
      "1712/1712 [==============================] - 7s 4ms/step - loss: 55.0553 - val_loss: 40.2630\n",
      "Epoch 7/10\n",
      "1712/1712 [==============================] - 7s 4ms/step - loss: 31.3646 - val_loss: 24.5322\n",
      "Epoch 8/10\n",
      "1712/1712 [==============================] - 7s 4ms/step - loss: 20.2175 - val_loss: 16.9435\n",
      "Epoch 9/10\n",
      "1712/1712 [==============================] - 7s 4ms/step - loss: 14.9043 - val_loss: 13.3101\n",
      "Epoch 10/10\n",
      "1712/1712 [==============================] - 7s 4ms/step - loss: 12.4103 - val_loss: 11.5848\n"
     ]
    }
   ],
   "source": [
    "input_shape=(IMAGE_ROWS, IMAGE_COLS, 1)\n",
    "\n",
    "model = Sequential()\n",
    "model.add(Conv2D(32,\n",
    "                 kernel_size=(3, 3),\n",
    "                 strides=(1,1),\n",
    "                 activation='relu',\n",
    "                 input_shape=input_shape))\n",
    "model.add(MaxPooling2D(pool_size=(2, 2), strides=(2, 2)))\n",
    "model.add(Flatten())\n",
    "model.add(Dense(30, activation = \"tanh\")) #changed to tanh because relu blew up\n",
    "model.add(Dense(30))\n",
    "fit_model(model=model,data=data)"
   ]
  },
  {
   "cell_type": "code",
   "execution_count": null,
   "metadata": {},
   "outputs": [],
   "source": []
  },
  {
   "cell_type": "code",
   "execution_count": null,
   "metadata": {},
   "outputs": [],
   "source": []
  },
  {
   "cell_type": "code",
   "execution_count": null,
   "metadata": {},
   "outputs": [],
   "source": [
    "keras.layers.MaxPooling2D(pool_size=(2, 2), strides=None, padding='valid', data_format=None)\n",
    "\n",
    "keras.layers.Conv2D(filters, kernel_size, strides=(1, 1), padding='valid',\n",
    "                    data_format=None, dilation_rate=(1, 1), activation=None,\n",
    "                    use_bias=True, kernel_initializer='glorot_uniform',\n",
    "                    bias_initializer='zeros', kernel_regularizer=None,\n",
    "                    bias_regularizer=None, activity_regularizer=None,\n",
    "                    kernel_constraint=None, bias_constraint=None)\n",
    "\n",
    "keras.layers.Dense(units, activation=None, use_bias=True, \n",
    "                   kernel_initializer='glorot_uniform', \n",
    "                   bias_initializer='zeros', kernel_regularizer=None, \n",
    "                   bias_regularizer=None, activity_regularizer=None, \n",
    "                   kernel_constraint=None, bias_constraint=None)\n",
    "\n",
    "keras.layers.Dropout(rate, noise_shape=None, seed=None)\n"
   ]
  },
  {
   "cell_type": "code",
   "execution_count": 21,
   "metadata": {},
   "outputs": [],
   "source": []
  },
  {
   "cell_type": "code",
   "execution_count": 22,
   "metadata": {},
   "outputs": [
    {
     "name": "stdout",
     "output_type": "stream",
     "text": [
      "(1712, 30)\n"
     ]
    }
   ],
   "source": [
    "print(y_train.shape)"
   ]
  }
 ],
 "metadata": {
  "kernelspec": {
   "display_name": "Python 3",
   "language": "python",
   "name": "python3"
  },
  "language_info": {
   "codemirror_mode": {
    "name": "ipython",
    "version": 3
   },
   "file_extension": ".py",
   "mimetype": "text/x-python",
   "name": "python",
   "nbconvert_exporter": "python",
   "pygments_lexer": "ipython3",
   "version": "3.6.4"
  }
 },
 "nbformat": 4,
 "nbformat_minor": 2
}
