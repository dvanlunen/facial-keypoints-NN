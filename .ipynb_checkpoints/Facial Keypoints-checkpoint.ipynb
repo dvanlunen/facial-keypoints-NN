{
 "cells": [
  {
   "cell_type": "markdown",
   "metadata": {},
   "source": [
    "## Key Takeaways\n",
    "\n",
    "### For NNs using Images\n",
    "- Convolutions are helpful\n",
    "- SGD isn't as good as newer optimizers like Adam and NesterovAdam - https://towardsdatascience.com/types-of-optimization-algorithms-used-in-neural-networks-and-ways-to-optimize-gradient-95ae5d39529f\n",
    "- normalization is helpful (both of the features and the output) and helps prevent divergence\n",
    "- batch normalization works well after the activation https://github.com/ducha-aiki/caffenet-benchmark/blob/master/batchnorm.md\n",
    "\n",
    "\n",
    "### Generally\n",
    "- Never trust the data blindly"
   ]
  },
  {
   "cell_type": "markdown",
   "metadata": {},
   "source": [
    "### Imports"
   ]
  },
  {
   "cell_type": "code",
   "execution_count": 2,
   "metadata": {},
   "outputs": [
    {
     "name": "stderr",
     "output_type": "stream",
     "text": [
      "Using TensorFlow backend.\n"
     ]
    }
   ],
   "source": [
    "%matplotlib inline\n",
    "from pandas.io.parsers import read_csv\n",
    "import os\n",
    "import numpy as np\n",
    "\n",
    "from keras.models import Sequential\n",
    "from keras.layers import Dense, Conv2D, MaxPooling2D, Flatten, Dropout, BatchNormalization\n",
    "from keras.optimizers import Nadam\n",
    "from keras.callbacks import EarlyStopping, Callback, History\n",
    "from sklearn.model_selection import train_test_split\n",
    "import matplotlib.pyplot as plt"
   ]
  },
  {
   "cell_type": "markdown",
   "metadata": {},
   "source": [
    "### Constants"
   ]
  },
  {
   "cell_type": "code",
   "execution_count": 3,
   "metadata": {
    "collapsed": true
   },
   "outputs": [],
   "source": [
    "TRAIN_DATA = '../data/training.csv'\n",
    "TEST_DATA = '../data/test.csv'\n",
    "IMAGE_ROWS = 96\n",
    "IMAGE_COLS = 96\n",
    "INPUT_SHAPE = (IMAGE_ROWS, IMAGE_COLS, 1)"
   ]
  },
  {
   "cell_type": "markdown",
   "metadata": {},
   "source": [
    "### Load the Data"
   ]
  },
  {
   "cell_type": "code",
   "execution_count": 4,
   "metadata": {
    "collapsed": true
   },
   "outputs": [],
   "source": [
    "def loader(test=False, seed=None, keeplabels=None):\n",
    "    if seed:\n",
    "        np.random.seed(seed)\n",
    "    fileloc = TEST_DATA if test else TRAIN_DATA\n",
    "    \n",
    "    df = read_csv(fileloc)\n",
    "    \n",
    "    df['Image'] = df['Image'].apply(lambda x: np.fromstring(x, sep=' '))\n",
    "    \n",
    "    if keeplabels:\n",
    "        df = df[list(keeplabels) + ['Image']]\n",
    "        \n",
    "    df = df.dropna() # drop rows with missing labels\n",
    "    \n",
    "    X = np.vstack(df['Image'])\n",
    "    # by pixel across the whole dataset subtract mean and divide by stdev\n",
    "    X = X - np.tile(np.mean(X,axis=0),(X.shape[0],1))\n",
    "    X = X / np.tile(np.std(X,axis=0),(X.shape[0],1))\n",
    "    X = X.astype(np.float32)\n",
    "    \n",
    "    if not test:\n",
    "        y = df[df.columns.difference(['Image'])].values\n",
    "        y = y.astype(np.float32)\n",
    "        y = (y - 48) / 48 # this helps, but tanh on output doesnt\n",
    "        shuffle = np.random.permutation(np.arange(X.shape[0]))\n",
    "        X, y = X[shuffle], y[shuffle]\n",
    "    else:\n",
    "        y = None\n",
    "    \n",
    "    X = X.reshape(-1, 96, 96, 1)\n",
    "\n",
    "    return X, y\n"
   ]
  },
  {
   "cell_type": "code",
   "execution_count": 5,
   "metadata": {
    "collapsed": true
   },
   "outputs": [],
   "source": [
    "X, y = loader(seed=42)\n",
    "X_train, X_test, y_train, y_test = train_test_split(X, y,\n",
    "                                                        test_size=0.2,\n",
    "                                                        random_state=42)\n",
    "data=[X_train, X_test, y_train, y_test]"
   ]
  },
  {
   "cell_type": "markdown",
   "metadata": {},
   "source": [
    "### Plot an Example Image"
   ]
  },
  {
   "cell_type": "code",
   "execution_count": 18,
   "metadata": {},
   "outputs": [
    {
     "data": {
      "image/png": "[encoded data removed]",
      "text/plain": [
       "<matplotlib.figure.Figure at 0x187ce18e080>"
      ]
     },
     "metadata": {},
     "output_type": "display_data"
    }
   ],
   "source": [
    "def plot_image(image, points):\n",
    "    \"\"\"Helper function to plot images\"\"\"\n",
    "    plt.figure(figsize=(4,4))\n",
    "    plt.imshow(np.reshape(image,(96,96)), cmap = 'gray')\n",
    "    \n",
    "    for x, y in np.reshape(points,(len(points)//2, 2)):\n",
    "        plt.plot(x, y, 'rx')\n",
    "    plt.axis('off')\n",
    "\n",
    "\n",
    "\n",
    "plot_image(X_train[0], y_train[0]*48+48)\n"
   ]
  },
  {
   "cell_type": "code",
   "execution_count": null,
   "metadata": {
    "collapsed": true
   },
   "outputs": [],
   "source": [
    "for i in range(20):\n",
    "    plot_image(X_train[i], y_train[i]*48+48)"
   ]
  },
  {
   "cell_type": "markdown",
   "metadata": {},
   "source": [
    "### Model Fitting Function"
   ]
  },
  {
   "cell_type": "code",
   "execution_count": 141,
   "metadata": {
    "collapsed": true
   },
   "outputs": [],
   "source": [
    "def fit_model(model, data, epochs=100, patience=100):\n",
    "    X_train = data[0]\n",
    "    X_test = data[1]\n",
    "    y_train = data[2]\n",
    "    y_test = data[3]\n",
    "    model.compile(loss='mse', optimizer=Nadam())\n",
    "    earlystop = EarlyStopping(monitor='loss',\n",
    "                             patience=patience,\n",
    "                             verbose=1,\n",
    "                             mode=\"auto\")\n",
    "    callbacks = [earlystop]\n",
    "    history = model.fit(X_train, y_train,\n",
    "                        epochs=epochs,\n",
    "                        batch_size=32,\n",
    "                        callbacks=callbacks,\n",
    "                        validation_data=(X_test, y_test)\n",
    "             )\n",
    "    return history"
   ]
  },
  {
   "cell_type": "markdown",
   "metadata": {},
   "source": [
    "### Helper function to plot the loss"
   ]
  },
  {
   "cell_type": "code",
   "execution_count": 96,
   "metadata": {
    "collapsed": true
   },
   "outputs": [],
   "source": [
    "def plot_loss(hists, names):\n",
    "    colordict = {\n",
    "        0 : 'b',\n",
    "        1 : 'g',\n",
    "        2 : 'r'\n",
    "    }\n",
    "    \n",
    "    for i, hist in enumerate(hists):\n",
    "        plt.plot([np.sqrt(x) * 48 for x in hist.history['loss']],\n",
    "                 color=colordict[i],\n",
    "                 label=\"train \" + names[i])\n",
    "        plt.plot([np.sqrt(x) * 48 for x in hist.history['val_loss']],\n",
    "                 color=colordict[i],\n",
    "                 linestyle='dashed',\n",
    "                 label=\"valid \" + names[i])\n",
    "        plt.grid()\n",
    "        plt.legend()\n",
    "        plt.xlabel(\"epoch\")\n",
    "        plt.ylabel(\"loss\")\n",
    "        plt.yscale(\"log\")\n",
    "    plt.show()"
   ]
  },
  {
   "cell_type": "markdown",
   "metadata": {
    "collapsed": true
   },
   "source": [
    "### 1 Dense Hidden Layer with 100 units"
   ]
  },
  {
   "cell_type": "code",
   "execution_count": 111,
   "metadata": {},
   "outputs": [
    {
     "name": "stdout",
     "output_type": "stream",
     "text": [
      "_________________________________________________________________\n",
      "Layer (type)                 Output Shape              Param #   \n",
      "=================================================================\n",
      "flatten_28 (Flatten)         (None, 9216)              0         \n",
      "_________________________________________________________________\n",
      "dense_58 (Dense)             (None, 100)               921700    \n",
      "_________________________________________________________________\n",
      "dense_59 (Dense)             (None, 30)                3030      \n",
      "=================================================================\n",
      "Total params: 924,730\n",
      "Trainable params: 924,730\n",
      "Non-trainable params: 0\n",
      "_________________________________________________________________\n",
      "None\n"
     ]
    }
   ],
   "source": [
    "model1 = Sequential()\n",
    "model1.add(Flatten(input_shape=INPUT_SHAPE))\n",
    "model1.add(Dense(100, activation='relu'))\n",
    "model1.add(Dense(30))\n",
    "print(model1.summary())"
   ]
  },
  {
   "cell_type": "code",
   "execution_count": 103,
   "metadata": {
    "scrolled": true
   },
   "outputs": [
    {
     "name": "stdout",
     "output_type": "stream",
     "text": [
      "Train on 1712 samples, validate on 428 samples\n",
      "Epoch 1/100\n",
      "1712/1712 [==============================] - 1s 876us/step - loss: 4.1852 - val_loss: 0.1422\n",
      "Epoch 2/100\n",
      "1712/1712 [==============================] - 1s 417us/step - loss: 0.1324 - val_loss: 0.1210\n",
      "Epoch 3/100\n",
      "1712/1712 [==============================] - 1s 440us/step - loss: 0.1105 - val_loss: 0.0992\n",
      "Epoch 4/100\n",
      "1712/1712 [==============================] - 1s 379us/step - loss: 0.0895 - val_loss: 0.0793\n",
      "Epoch 5/100\n",
      "1712/1712 [==============================] - 1s 429us/step - loss: 0.0709 - val_loss: 0.0622\n",
      "Epoch 6/100\n",
      "1712/1712 [==============================] - 1s 466us/step - loss: 0.0553 - val_loss: 0.0481\n",
      "Epoch 7/100\n",
      "1712/1712 [==============================] - 1s 401us/step - loss: 0.0426 - val_loss: 0.0368\n",
      "Epoch 8/100\n",
      "1712/1712 [==============================] - 1s 398us/step - loss: 0.0326 - val_loss: 0.0280\n",
      "Epoch 9/100\n",
      "1712/1712 [==============================] - 1s 468us/step - loss: 0.0248 - val_loss: 0.0213\n",
      "Epoch 10/100\n",
      "1712/1712 [==============================] - 1s 400us/step - loss: 0.0190 - val_loss: 0.0163\n",
      "Epoch 11/100\n",
      "1712/1712 [==============================] - 1s 475us/step - loss: 0.0147 - val_loss: 0.0126\n",
      "Epoch 12/100\n",
      "1712/1712 [==============================] - 1s 420us/step - loss: 0.0115 - val_loss: 0.0100\n",
      "Epoch 13/100\n",
      "1712/1712 [==============================] - 1s 445us/step - loss: 0.0093 - val_loss: 0.0081\n",
      "Epoch 14/100\n",
      "1712/1712 [==============================] - 1s 440us/step - loss: 0.0077 - val_loss: 0.0068\n",
      "Epoch 15/100\n",
      "1712/1712 [==============================] - 1s 430us/step - loss: 0.0066 - val_loss: 0.0059\n",
      "Epoch 16/100\n",
      "1712/1712 [==============================] - 1s 407us/step - loss: 0.0058 - val_loss: 0.0053\n",
      "Epoch 17/100\n",
      "1712/1712 [==============================] - 1s 399us/step - loss: 0.0053 - val_loss: 0.0049\n",
      "Epoch 18/100\n",
      "1712/1712 [==============================] - 1s 420us/step - loss: 0.0050 - val_loss: 0.0047\n",
      "Epoch 19/100\n",
      "1712/1712 [==============================] - 1s 477us/step - loss: 0.0048 - val_loss: 0.0045\n",
      "Epoch 20/100\n",
      "1712/1712 [==============================] - 1s 457us/step - loss: 0.0047 - val_loss: 0.0044\n",
      "Epoch 21/100\n",
      "1712/1712 [==============================] - 1s 429us/step - loss: 0.0046 - val_loss: 0.0044\n",
      "Epoch 22/100\n",
      "1712/1712 [==============================] - 1s 399us/step - loss: 0.0045 - val_loss: 0.0043\n",
      "Epoch 23/100\n",
      "1712/1712 [==============================] - 1s 379us/step - loss: 0.0045 - val_loss: 0.0043\n",
      "Epoch 24/100\n",
      "1712/1712 [==============================] - 1s 486us/step - loss: 0.0045 - val_loss: 0.0043\n",
      "Epoch 25/100\n",
      "1712/1712 [==============================] - 1s 419us/step - loss: 0.0045 - val_loss: 0.0043\n",
      "Epoch 26/100\n",
      "1712/1712 [==============================] - 1s 417us/step - loss: 0.0044 - val_loss: 0.0043\n",
      "Epoch 27/100\n",
      "1712/1712 [==============================] - 1s 431us/step - loss: 0.0044 - val_loss: 0.0043\n",
      "Epoch 28/100\n",
      "1712/1712 [==============================] - 1s 433us/step - loss: 0.0044 - val_loss: 0.0043\n",
      "Epoch 29/100\n",
      "1712/1712 [==============================] - 1s 433us/step - loss: 0.0044 - val_loss: 0.0043\n",
      "Epoch 30/100\n",
      "1712/1712 [==============================] - 1s 361us/step - loss: 0.0044 - val_loss: 0.0043\n",
      "Epoch 31/100\n",
      "1712/1712 [==============================] - 1s 458us/step - loss: 0.0044 - val_loss: 0.0043\n",
      "Epoch 32/100\n",
      "1712/1712 [==============================] - 1s 448us/step - loss: 0.0044 - val_loss: 0.0043\n",
      "Epoch 00032: early stopping\n"
     ]
    }
   ],
   "source": [
    "model1_hist = fit_model(model1,data,epochs=100,patience=10)"
   ]
  },
  {
   "cell_type": "code",
   "execution_count": 107,
   "metadata": {
    "scrolled": true
   },
   "outputs": [
    {
     "name": "stdout",
     "output_type": "stream",
     "text": [
      "_________________________________________________________________\n",
      "Layer (type)                 Output Shape              Param #   \n",
      "=================================================================\n",
      "flatten_24 (Flatten)         (None, 9216)              0         \n",
      "_________________________________________________________________\n",
      "dense_47 (Dense)             (None, 100)               921700    \n",
      "_________________________________________________________________\n",
      "dense_48 (Dense)             (None, 30)                3030      \n",
      "=================================================================\n",
      "Total params: 924,730\n",
      "Trainable params: 924,730\n",
      "Non-trainable params: 0\n",
      "_________________________________________________________________\n",
      "None\n"
     ]
    },
    {
     "data": {
      "image/png": "[encoded data removed]",
      "text/plain": [
       "<matplotlib.figure.Figure at 0x29f4b066b70>"
      ]
     },
     "metadata": {},
     "output_type": "display_data"
    }
   ],
   "source": [
    "plot_loss([model1_hist],['dense1'])"
   ]
  },
  {
   "cell_type": "code",
   "execution_count": 139,
   "metadata": {},
   "outputs": [
    {
     "name": "stdout",
     "output_type": "stream",
     "text": [
      "_________________________________________________________________\n",
      "Layer (type)                 Output Shape              Param #   \n",
      "=================================================================\n",
      "flatten_32 (Flatten)         (None, 9216)              0         \n",
      "_________________________________________________________________\n",
      "dense_67 (Dense)             (None, 100)               921700    \n",
      "_________________________________________________________________\n",
      "batch_normalization_1 (Batch (None, 100)               400       \n",
      "_________________________________________________________________\n",
      "dense_68 (Dense)             (None, 30)                3030      \n",
      "=================================================================\n",
      "Total params: 925,130\n",
      "Trainable params: 924,930\n",
      "Non-trainable params: 200\n",
      "_________________________________________________________________\n",
      "None\n"
     ]
    }
   ],
   "source": [
    "model1BN = Sequential()\n",
    "model1BN.add(Flatten(input_shape=INPUT_SHAPE))\n",
    "model1BN.add(Dense(100, activation='relu'))\n",
    "model1BN.add(BatchNormalization())\n",
    "model1BN.add(Dense(30))\n",
    "print(model1BN.summary())\n"
   ]
  },
  {
   "cell_type": "code",
   "execution_count": 142,
   "metadata": {},
   "outputs": [
    {
     "name": "stdout",
     "output_type": "stream",
     "text": [
      "Train on 1712 samples, validate on 428 samples\n",
      "Epoch 1/100\n",
      "1712/1712 [==============================] - 2s 1ms/step - loss: 0.3026 - val_loss: 0.0573\n",
      "Epoch 2/100\n",
      "1712/1712 [==============================] - 1s 432us/step - loss: 0.0170 - val_loss: 0.0144\n",
      "Epoch 3/100\n",
      "1712/1712 [==============================] - 1s 539us/step - loss: 0.0064 - val_loss: 0.0076\n",
      "Epoch 4/100\n",
      "1712/1712 [==============================] - 1s 466us/step - loss: 0.0046 - val_loss: 0.0052\n",
      "Epoch 5/100\n",
      "1712/1712 [==============================] - 1s 489us/step - loss: 0.0039 - val_loss: 0.0045\n",
      "Epoch 6/100\n",
      "1712/1712 [==============================] - 1s 444us/step - loss: 0.0034 - val_loss: 0.0059\n",
      "Epoch 7/100\n",
      "1712/1712 [==============================] - 1s 556us/step - loss: 0.0033 - val_loss: 0.0048\n",
      "Epoch 8/100\n",
      "1712/1712 [==============================] - 1s 543us/step - loss: 0.0032 - val_loss: 0.0051\n",
      "Epoch 9/100\n",
      "1712/1712 [==============================] - 1s 459us/step - loss: 0.0033 - val_loss: 0.0035\n",
      "Epoch 10/100\n",
      "1712/1712 [==============================] - 1s 477us/step - loss: 0.0029 - val_loss: 0.0037\n",
      "Epoch 11/100\n",
      "1712/1712 [==============================] - 1s 487us/step - loss: 0.0030 - val_loss: 0.0048\n",
      "Epoch 12/100\n",
      "1712/1712 [==============================] - 1s 514us/step - loss: 0.0029 - val_loss: 0.0047\n",
      "Epoch 13/100\n",
      "1712/1712 [==============================] - 1s 566us/step - loss: 0.0029 - val_loss: 0.0043\n",
      "Epoch 14/100\n",
      "1712/1712 [==============================] - 1s 515us/step - loss: 0.0026 - val_loss: 0.0036\n",
      "Epoch 15/100\n",
      "1712/1712 [==============================] - 1s 458us/step - loss: 0.0030 - val_loss: 0.0044\n",
      "Epoch 16/100\n",
      "1712/1712 [==============================] - 1s 531us/step - loss: 0.0028 - val_loss: 0.0038\n",
      "Epoch 17/100\n",
      "1712/1712 [==============================] - 1s 499us/step - loss: 0.0025 - val_loss: 0.0029\n",
      "Epoch 18/100\n",
      "1712/1712 [==============================] - 1s 496us/step - loss: 0.0029 - val_loss: 0.0056\n",
      "Epoch 19/100\n",
      "1712/1712 [==============================] - 1s 524us/step - loss: 0.0029 - val_loss: 0.0054\n",
      "Epoch 20/100\n",
      "1712/1712 [==============================] - 1s 469us/step - loss: 0.0029 - val_loss: 0.0034\n",
      "Epoch 21/100\n",
      "1712/1712 [==============================] - 1s 585us/step - loss: 0.0027 - val_loss: 0.0040\n",
      "Epoch 22/100\n",
      "1712/1712 [==============================] - 1s 569us/step - loss: 0.0026 - val_loss: 0.0038\n",
      "Epoch 23/100\n",
      "1712/1712 [==============================] - 1s 496us/step - loss: 0.0025 - val_loss: 0.0057\n",
      "Epoch 24/100\n",
      "1712/1712 [==============================] - 1s 422us/step - loss: 0.0030 - val_loss: 0.0048\n",
      "Epoch 25/100\n",
      "1712/1712 [==============================] - 1s 480us/step - loss: 0.0024 - val_loss: 0.0076\n",
      "Epoch 26/100\n",
      "1712/1712 [==============================] - 1s 508us/step - loss: 0.0026 - val_loss: 0.0057\n",
      "Epoch 27/100\n",
      "1712/1712 [==============================] - 1s 471us/step - loss: 0.0026 - val_loss: 0.0036\n",
      "Epoch 28/100\n",
      "1712/1712 [==============================] - 1s 554us/step - loss: 0.0025 - val_loss: 0.0049\n",
      "Epoch 29/100\n",
      "1712/1712 [==============================] - 1s 477us/step - loss: 0.0023 - val_loss: 0.0043\n",
      "Epoch 30/100\n",
      "1712/1712 [==============================] - 1s 440us/step - loss: 0.0024 - val_loss: 0.0047\n",
      "Epoch 31/100\n",
      "1712/1712 [==============================] - 1s 436us/step - loss: 0.0023 - val_loss: 0.0043\n",
      "Epoch 32/100\n",
      "1712/1712 [==============================] - 1s 455us/step - loss: 0.0030 - val_loss: 0.0040\n",
      "Epoch 33/100\n",
      "1712/1712 [==============================] - 1s 515us/step - loss: 0.0025 - val_loss: 0.0046\n",
      "Epoch 34/100\n",
      "1712/1712 [==============================] - 1s 518us/step - loss: 0.0026 - val_loss: 0.0047\n",
      "Epoch 35/100\n",
      "1712/1712 [==============================] - 1s 535us/step - loss: 0.0023 - val_loss: 0.0050\n",
      "Epoch 36/100\n",
      "1712/1712 [==============================] - 1s 449us/step - loss: 0.0025 - val_loss: 0.0071\n",
      "Epoch 37/100\n",
      "1712/1712 [==============================] - 1s 486us/step - loss: 0.0027 - val_loss: 0.0051\n",
      "Epoch 38/100\n",
      "1712/1712 [==============================] - 1s 507us/step - loss: 0.0033 - val_loss: 0.0069\n",
      "Epoch 39/100\n",
      "1712/1712 [==============================] - 1s 467us/step - loss: 0.0022 - val_loss: 0.0058\n",
      "Epoch 40/100\n",
      "1712/1712 [==============================] - 1s 467us/step - loss: 0.0025 - val_loss: 0.0066\n",
      "Epoch 41/100\n",
      "1712/1712 [==============================] - 1s 497us/step - loss: 0.0023 - val_loss: 0.0039\n",
      "Epoch 42/100\n",
      "1712/1712 [==============================] - 1s 515us/step - loss: 0.0020 - val_loss: 0.0038\n",
      "Epoch 43/100\n",
      "1712/1712 [==============================] - 1s 477us/step - loss: 0.0023 - val_loss: 0.0087\n",
      "Epoch 44/100\n",
      "1712/1712 [==============================] - 1s 514us/step - loss: 0.0025 - val_loss: 0.0035\n",
      "Epoch 45/100\n",
      "1712/1712 [==============================] - 1s 509us/step - loss: 0.0018 - val_loss: 0.0034\n",
      "Epoch 46/100\n",
      "1712/1712 [==============================] - 1s 457us/step - loss: 0.0022 - val_loss: 0.0035\n",
      "Epoch 47/100\n",
      "1712/1712 [==============================] - 1s 535us/step - loss: 0.0019 - val_loss: 0.0035\n",
      "Epoch 48/100\n",
      "1712/1712 [==============================] - 1s 516us/step - loss: 0.0021 - val_loss: 0.0055\n",
      "Epoch 49/100\n",
      "1712/1712 [==============================] - 1s 447us/step - loss: 0.0025 - val_loss: 0.0036\n",
      "Epoch 50/100\n",
      "1712/1712 [==============================] - 1s 488us/step - loss: 0.0020 - val_loss: 0.0050\n",
      "Epoch 51/100\n",
      "1712/1712 [==============================] - 1s 467us/step - loss: 0.0023 - val_loss: 0.0033\n",
      "Epoch 52/100\n",
      "1712/1712 [==============================] - 1s 485us/step - loss: 0.0023 - val_loss: 0.0036\n",
      "Epoch 53/100\n",
      "1712/1712 [==============================] - 1s 468us/step - loss: 0.0020 - val_loss: 0.0042\n",
      "Epoch 54/100\n",
      "1712/1712 [==============================] - 1s 436us/step - loss: 0.0019 - val_loss: 0.0044\n",
      "Epoch 55/100\n",
      "1712/1712 [==============================] - 1s 489us/step - loss: 0.0022 - val_loss: 0.0045\n",
      "Epoch 00055: early stopping\n"
     ]
    },
    {
     "data": {
      "image/png": "[encoded data removed]",
      "text/plain": [
       "<matplotlib.figure.Figure at 0x29f6abe46d8>"
      ]
     },
     "metadata": {},
     "output_type": "display_data"
    }
   ],
   "source": [
    "model1BN_hist = fit_model(model1BN,data,epochs=100,patience=10)\n",
    "plot_loss([model1_hist,model1BN_hist],['dense1','dense1_BN'])"
   ]
  },
  {
   "cell_type": "markdown",
   "metadata": {},
   "source": [
    "### Model with convolutions"
   ]
  },
  {
   "cell_type": "code",
   "execution_count": 113,
   "metadata": {},
   "outputs": [
    {
     "name": "stdout",
     "output_type": "stream",
     "text": [
      "_________________________________________________________________\n",
      "Layer (type)                 Output Shape              Param #   \n",
      "=================================================================\n",
      "conv2d_15 (Conv2D)           (None, 94, 94, 32)        320       \n",
      "_________________________________________________________________\n",
      "max_pooling2d_15 (MaxPooling (None, 47, 47, 32)        0         \n",
      "_________________________________________________________________\n",
      "conv2d_16 (Conv2D)           (None, 46, 46, 64)        8256      \n",
      "_________________________________________________________________\n",
      "max_pooling2d_16 (MaxPooling (None, 23, 23, 64)        0         \n",
      "_________________________________________________________________\n",
      "conv2d_17 (Conv2D)           (None, 22, 22, 128)       32896     \n",
      "_________________________________________________________________\n",
      "max_pooling2d_17 (MaxPooling (None, 11, 11, 128)       0         \n",
      "_________________________________________________________________\n",
      "flatten_30 (Flatten)         (None, 15488)             0         \n",
      "_________________________________________________________________\n",
      "dense_63 (Dense)             (None, 500)               7744500   \n",
      "_________________________________________________________________\n",
      "dense_64 (Dense)             (None, 100)               50100     \n",
      "_________________________________________________________________\n",
      "dense_65 (Dense)             (None, 30)                3030      \n",
      "=================================================================\n",
      "Total params: 7,839,102\n",
      "Trainable params: 7,839,102\n",
      "Non-trainable params: 0\n",
      "_________________________________________________________________\n",
      "None\n"
     ]
    }
   ],
   "source": [
    "model2 = Sequential()\n",
    "model2.add(Conv2D(32,\n",
    "                 (3, 3),\n",
    "                 activation='relu',\n",
    "                input_shape=INPUT_SHAPE))\n",
    "model2.add(BatchNormalization())\n",
    "model2.add(MaxPooling2D(pool_size=(2, 2)))\n",
    "model2.add(Conv2D(filters=64,\n",
    "                 kernel_size=(2, 2),\n",
    "                 activation='relu'))\n",
    "model2.add(BatchNormalization())\n",
    "model2.add(MaxPooling2D(pool_size=(2, 2)))\n",
    "model2.add(Conv2D(filters=128,\n",
    "                 kernel_size=(2, 2),\n",
    "                 activation='relu'))\n",
    "model2.add(BatchNormalization())\n",
    "model2.add(MaxPooling2D(pool_size=(2, 2)))\n",
    "model2.add(Flatten())\n",
    "model2.add(Dense(500, activation = \"relu\"))\n",
    "model2.add(Dense(100, activation = \"relu\"))\n",
    "model2.add(Dense(30))\n",
    "print(model2.summary())"
   ]
  },
  {
   "cell_type": "code",
   "execution_count": 114,
   "metadata": {},
   "outputs": [
    {
     "name": "stdout",
     "output_type": "stream",
     "text": [
      "Train on 1712 samples, validate on 428 samples\n",
      "Epoch 1/100\n",
      "1712/1712 [==============================] - 6s 4ms/step - loss: 0.0427 - val_loss: 0.0061\n",
      "Epoch 2/100\n",
      "1712/1712 [==============================] - 5s 3ms/step - loss: 0.0053 - val_loss: 0.0044\n",
      "Epoch 3/100\n",
      "1712/1712 [==============================] - 5s 3ms/step - loss: 0.0049 - val_loss: 0.0063\n",
      "Epoch 4/100\n",
      "1712/1712 [==============================] - 5s 3ms/step - loss: 0.0047 - val_loss: 0.0037\n",
      "Epoch 5/100\n",
      "1712/1712 [==============================] - 5s 3ms/step - loss: 0.0041 - val_loss: 0.0042\n",
      "Epoch 6/100\n",
      "1712/1712 [==============================] - 5s 3ms/step - loss: 0.0041 - val_loss: 0.0037\n",
      "Epoch 7/100\n",
      "1712/1712 [==============================] - 5s 3ms/step - loss: 0.0030 - val_loss: 0.0027\n",
      "Epoch 8/100\n",
      "1712/1712 [==============================] - 5s 3ms/step - loss: 0.0062 - val_loss: 0.0043\n",
      "Epoch 9/100\n",
      "1712/1712 [==============================] - 5s 3ms/step - loss: 0.0042 - val_loss: 0.0047\n",
      "Epoch 10/100\n",
      "1712/1712 [==============================] - 5s 3ms/step - loss: 0.0051 - val_loss: 0.0033\n",
      "Epoch 11/100\n",
      "1712/1712 [==============================] - 5s 3ms/step - loss: 0.0031 - val_loss: 0.0036\n",
      "Epoch 12/100\n",
      "1712/1712 [==============================] - 5s 3ms/step - loss: 0.0027 - val_loss: 0.0027\n",
      "Epoch 13/100\n",
      "1712/1712 [==============================] - 5s 3ms/step - loss: 0.0024 - val_loss: 0.0031\n",
      "Epoch 14/100\n",
      "1712/1712 [==============================] - 5s 3ms/step - loss: 0.0020 - val_loss: 0.0019\n",
      "Epoch 15/100\n",
      "1712/1712 [==============================] - 5s 3ms/step - loss: 0.0020 - val_loss: 0.0021\n",
      "Epoch 16/100\n",
      "1712/1712 [==============================] - 5s 3ms/step - loss: 0.0018 - val_loss: 0.0029\n",
      "Epoch 17/100\n",
      "1712/1712 [==============================] - 5s 3ms/step - loss: 0.0018 - val_loss: 0.0025\n",
      "Epoch 18/100\n",
      "1712/1712 [==============================] - 5s 3ms/step - loss: 0.0016 - val_loss: 0.0021\n",
      "Epoch 19/100\n",
      "1712/1712 [==============================] - 5s 3ms/step - loss: 0.0013 - val_loss: 0.0017\n",
      "Epoch 20/100\n",
      "1712/1712 [==============================] - 5s 3ms/step - loss: 0.0014 - val_loss: 0.0021\n",
      "Epoch 21/100\n",
      "1712/1712 [==============================] - 5s 3ms/step - loss: 0.0011 - val_loss: 0.0016\n",
      "Epoch 22/100\n",
      "1712/1712 [==============================] - 5s 3ms/step - loss: 0.0012 - val_loss: 0.0017\n",
      "Epoch 23/100\n",
      "1712/1712 [==============================] - 5s 3ms/step - loss: 0.0012 - val_loss: 0.0017\n",
      "Epoch 24/100\n",
      "1712/1712 [==============================] - 5s 3ms/step - loss: 0.0010 - val_loss: 0.0019\n",
      "Epoch 25/100\n",
      "1712/1712 [==============================] - 5s 3ms/step - loss: 9.8142e-04 - val_loss: 0.0022\n",
      "Epoch 26/100\n",
      "1712/1712 [==============================] - 5s 3ms/step - loss: 0.0010 - val_loss: 0.0019\n",
      "Epoch 27/100\n",
      "1712/1712 [==============================] - 5s 3ms/step - loss: 9.0519e-04 - val_loss: 0.0014\n",
      "Epoch 28/100\n",
      "1712/1712 [==============================] - 5s 3ms/step - loss: 8.9641e-04 - val_loss: 0.0015\n",
      "Epoch 29/100\n",
      "1712/1712 [==============================] - 5s 3ms/step - loss: 8.1969e-04 - val_loss: 0.0016\n",
      "Epoch 30/100\n",
      "1712/1712 [==============================] - 5s 3ms/step - loss: 7.9860e-04 - val_loss: 0.0014\n",
      "Epoch 31/100\n",
      "1712/1712 [==============================] - 5s 3ms/step - loss: 7.6079e-04 - val_loss: 0.0015\n",
      "Epoch 32/100\n",
      "1712/1712 [==============================] - 5s 3ms/step - loss: 6.9882e-04 - val_loss: 0.0013\n",
      "Epoch 33/100\n",
      "1712/1712 [==============================] - 5s 3ms/step - loss: 8.1860e-04 - val_loss: 0.0013\n",
      "Epoch 34/100\n",
      "1712/1712 [==============================] - 5s 3ms/step - loss: 7.8505e-04 - val_loss: 0.0016\n",
      "Epoch 35/100\n",
      "1712/1712 [==============================] - 5s 3ms/step - loss: 6.0965e-04 - val_loss: 0.0013\n",
      "Epoch 36/100\n",
      "1712/1712 [==============================] - 5s 3ms/step - loss: 5.8861e-04 - val_loss: 0.0015\n",
      "Epoch 37/100\n",
      "1712/1712 [==============================] - 5s 3ms/step - loss: 5.4986e-04 - val_loss: 0.0013\n",
      "Epoch 38/100\n",
      "1712/1712 [==============================] - 5s 3ms/step - loss: 5.7130e-04 - val_loss: 0.0014\n",
      "Epoch 39/100\n",
      "1712/1712 [==============================] - 5s 3ms/step - loss: 4.4806e-04 - val_loss: 0.0012\n",
      "Epoch 40/100\n",
      "1712/1712 [==============================] - 5s 3ms/step - loss: 4.7165e-04 - val_loss: 0.0015\n",
      "Epoch 41/100\n",
      "1712/1712 [==============================] - 5s 3ms/step - loss: 4.9786e-04 - val_loss: 0.0019\n",
      "Epoch 42/100\n",
      "1712/1712 [==============================] - 5s 3ms/step - loss: 5.6149e-04 - val_loss: 0.0012\n",
      "Epoch 43/100\n",
      "1712/1712 [==============================] - 5s 3ms/step - loss: 4.5975e-04 - val_loss: 0.0014\n",
      "Epoch 44/100\n",
      "1712/1712 [==============================] - 5s 3ms/step - loss: 3.8759e-04 - val_loss: 0.0012\n",
      "Epoch 45/100\n",
      "1712/1712 [==============================] - 5s 3ms/step - loss: 4.7679e-04 - val_loss: 0.0012\n",
      "Epoch 46/100\n",
      "1712/1712 [==============================] - 5s 3ms/step - loss: 3.3489e-04 - val_loss: 0.0012\n",
      "Epoch 47/100\n",
      "1712/1712 [==============================] - 5s 3ms/step - loss: 4.2603e-04 - val_loss: 0.0012\n",
      "Epoch 48/100\n",
      "1712/1712 [==============================] - 5s 3ms/step - loss: 4.6807e-04 - val_loss: 0.0013\n",
      "Epoch 49/100\n",
      "1712/1712 [==============================] - 5s 3ms/step - loss: 3.5467e-04 - val_loss: 0.0012\n",
      "Epoch 50/100\n",
      "1712/1712 [==============================] - 5s 3ms/step - loss: 3.7821e-04 - val_loss: 0.0013\n",
      "Epoch 51/100\n",
      "1712/1712 [==============================] - 5s 3ms/step - loss: 4.2661e-04 - val_loss: 0.0013\n",
      "Epoch 52/100\n",
      "1712/1712 [==============================] - 5s 3ms/step - loss: 3.0541e-04 - val_loss: 0.0012\n",
      "Epoch 53/100\n",
      "1712/1712 [==============================] - 5s 3ms/step - loss: 3.6592e-04 - val_loss: 0.0013\n",
      "Epoch 54/100\n",
      "1712/1712 [==============================] - 5s 3ms/step - loss: 2.8480e-04 - val_loss: 0.0012\n",
      "Epoch 55/100\n",
      "1712/1712 [==============================] - 5s 3ms/step - loss: 2.1677e-04 - val_loss: 0.0012\n",
      "Epoch 56/100\n",
      "1712/1712 [==============================] - 5s 3ms/step - loss: 8.8432e-04 - val_loss: 0.0014\n",
      "Epoch 57/100\n",
      "1712/1712 [==============================] - 5s 3ms/step - loss: 4.2742e-04 - val_loss: 0.0012\n",
      "Epoch 58/100\n",
      "1712/1712 [==============================] - 5s 3ms/step - loss: 2.4575e-04 - val_loss: 0.0012\n",
      "Epoch 59/100\n",
      "1712/1712 [==============================] - 5s 3ms/step - loss: 2.2092e-04 - val_loss: 0.0012\n",
      "Epoch 60/100\n",
      "1712/1712 [==============================] - 5s 3ms/step - loss: 2.5906e-04 - val_loss: 0.0012\n",
      "Epoch 61/100\n",
      "1712/1712 [==============================] - 5s 3ms/step - loss: 1.9799e-04 - val_loss: 0.0012\n",
      "Epoch 62/100\n",
      "1712/1712 [==============================] - 5s 3ms/step - loss: 2.0716e-04 - val_loss: 0.0012\n",
      "Epoch 63/100\n",
      "1712/1712 [==============================] - 5s 3ms/step - loss: 3.0727e-04 - val_loss: 0.0012\n",
      "Epoch 64/100\n",
      "1712/1712 [==============================] - 5s 3ms/step - loss: 2.2180e-04 - val_loss: 0.00120e-\n",
      "Epoch 65/100\n",
      "1712/1712 [==============================] - 5s 3ms/step - loss: 2.1172e-04 - val_loss: 0.0012\n",
      "Epoch 00065: early stopping\n"
     ]
    }
   ],
   "source": [
    "model2_hist = fit_model(model2,data,epochs=100)"
   ]
  },
  {
   "cell_type": "code",
   "execution_count": 143,
   "metadata": {},
   "outputs": [
    {
     "data": {
      "image/png": "[encoded data removed]",
      "text/plain": [
       "<matplotlib.figure.Figure at 0x29f6b84f588>"
      ]
     },
     "metadata": {},
     "output_type": "display_data"
    }
   ],
   "source": [
    "plot_loss([model1BN_hist, model2_hist],['dense1_BN','CNN'])"
   ]
  },
  {
   "cell_type": "code",
   "execution_count": null,
   "metadata": {
    "collapsed": true
   },
   "outputs": [],
   "source": []
  },
  {
   "cell_type": "code",
   "execution_count": null,
   "metadata": {
    "collapsed": true
   },
   "outputs": [],
   "source": []
  },
  {
   "cell_type": "code",
   "execution_count": null,
   "metadata": {
    "collapsed": true
   },
   "outputs": [],
   "source": []
  },
  {
   "cell_type": "code",
   "execution_count": null,
   "metadata": {
    "collapsed": true
   },
   "outputs": [],
   "source": []
  },
  {
   "cell_type": "code",
   "execution_count": null,
   "metadata": {
    "collapsed": true
   },
   "outputs": [],
   "source": []
  },
  {
   "cell_type": "code",
   "execution_count": 15,
   "metadata": {},
   "outputs": [
    {
     "name": "stdout",
     "output_type": "stream",
     "text": [
      "Train on 1712 samples, validate on 428 samples\n",
      "Epoch 1/100\n",
      "1712/1712 [==============================] - 2s 1ms/step - loss: 2499.7435 - val_loss: 2454.5775\n",
      "Epoch 2/100\n",
      "1712/1712 [==============================] - 2s 885us/step - loss: 2396.8481 - val_loss: 2353.9204\n",
      "Epoch 3/100\n",
      "1712/1712 [==============================] - 2s 898us/step - loss: 2297.2147 - val_loss: 2255.5378\n",
      "Epoch 4/100\n",
      "1712/1712 [==============================] - 2s 876us/step - loss: 2200.8390 - val_loss: 2160.9986\n",
      "Epoch 5/100\n",
      "1712/1712 [==============================] - 2s 901us/step - loss: 2108.3183 - val_loss: 2070.2555\n",
      "Epoch 6/100\n",
      "1712/1712 [==============================] - 2s 888us/step - loss: 2019.4843 - val_loss: 1983.0718\n",
      "Epoch 7/100\n",
      "1712/1712 [==============================] - 1s 876us/step - loss: 1934.1325 - val_loss: 1899.3179\n",
      "Epoch 8/100\n",
      "1712/1712 [==============================] - 2s 891us/step - loss: 1852.1502 - val_loss: 1818.8056\n",
      "Epoch 9/100\n",
      "1712/1712 [==============================] - 2s 881us/step - loss: 1773.3161 - val_loss: 1741.4156\n",
      "Epoch 10/100\n",
      "1712/1712 [==============================] - 2s 880us/step - loss: 1697.5741 - val_loss: 1667.0388\n",
      "Epoch 11/100\n",
      "1712/1712 [==============================] - 2s 892us/step - loss: 1624.7954 - val_loss: 1595.5794\n",
      "Epoch 12/100\n",
      "1712/1712 [==============================] - 2s 896us/step - loss: 1554.8870 - val_loss: 1526.9367\n",
      "Epoch 13/100\n",
      "1712/1712 [==============================] - 2s 881us/step - loss: 1487.7299 - val_loss: 1461.0494\n",
      "Epoch 14/100\n",
      "1712/1712 [==============================] - 2s 879us/step - loss: 1423.2988 - val_loss: 1397.7837\n",
      "Epoch 15/100\n",
      "1712/1712 [==============================] - 2s 885us/step - loss: 1361.4339 - val_loss: 1337.0269\n",
      "Epoch 16/100\n",
      "1712/1712 [==============================] - 2s 879us/step - loss: 1302.0160 - val_loss: 1278.7352\n",
      "Epoch 17/100\n",
      "1712/1712 [==============================] - 2s 877us/step - loss: 1245.0455 - val_loss: 1222.7702\n",
      "Epoch 18/100\n",
      "1712/1712 [==============================] - 2s 885us/step - loss: 1190.3495 - val_loss: 1169.0965\n",
      "Epoch 19/100\n",
      "1712/1712 [==============================] - 2s 896us/step - loss: 1137.9019 - val_loss: 1117.6461\n",
      "Epoch 20/100\n",
      "1712/1712 [==============================] - 2s 876us/step - loss: 1087.6451 - val_loss: 1068.2798\n",
      "Epoch 21/100\n",
      "1712/1712 [==============================] - 2s 877us/step - loss: 1039.4227 - val_loss: 1020.9406\n",
      "Epoch 22/100\n",
      "1712/1712 [==============================] - 1s 876us/step - loss: 993.1918 - val_loss: 975.5903\n",
      "Epoch 23/100\n",
      "1712/1712 [==============================] - 2s 877us/step - loss: 948.9305 - val_loss: 932.1007\n",
      "Epoch 24/100\n",
      "1712/1712 [==============================] - 2s 890us/step - loss: 906.4697 - val_loss: 890.4216\n",
      "Epoch 25/100\n",
      "1712/1712 [==============================] - 2s 878us/step - loss: 865.7973 - val_loss: 850.4648\n",
      "Epoch 26/100\n",
      "1712/1712 [==============================] - 2s 877us/step - loss: 826.8021 - val_loss: 812.2342\n",
      "Epoch 27/100\n",
      "1712/1712 [==============================] - 2s 907us/step - loss: 789.5120 - val_loss: 775.6228\n",
      "Epoch 28/100\n",
      "1712/1712 [==============================] - 2s 878us/step - loss: 753.8061 - val_loss: 740.5621\n",
      "Epoch 29/100\n",
      "1712/1712 [==============================] - 2s 882us/step - loss: 719.6097 - val_loss: 706.9995\n",
      "Epoch 30/100\n",
      "1712/1712 [==============================] - 2s 881us/step - loss: 686.8780 - val_loss: 674.8631\n",
      "Epoch 31/100\n",
      "1712/1712 [==============================] - 2s 907us/step - loss: 655.5456 - val_loss: 644.0976\n",
      "Epoch 32/100\n",
      "1712/1712 [==============================] - 2s 887us/step - loss: 625.5573 - val_loss: 614.6442\n",
      "Epoch 33/100\n",
      "1712/1712 [==============================] - 2s 898us/step - loss: 596.8472 - val_loss: 586.4482\n",
      "Epoch 34/100\n",
      "1712/1712 [==============================] - 2s 884us/step - loss: 569.3710 - val_loss: 559.4873\n",
      "Epoch 35/100\n",
      "1712/1712 [==============================] - 2s 899us/step - loss: 543.1093 - val_loss: 533.6902\n",
      "Epoch 36/100\n",
      "1712/1712 [==============================] - 2s 887us/step - loss: 517.9783 - val_loss: 509.0145\n",
      "Epoch 37/100\n",
      "1712/1712 [==============================] - 2s 885us/step - loss: 493.9469 - val_loss: 485.4158\n",
      "Epoch 38/100\n",
      "1712/1712 [==============================] - 1s 874us/step - loss: 470.9621 - val_loss: 462.8387\n",
      "Epoch 39/100\n",
      "1712/1712 [==============================] - 2s 920us/step - loss: 448.9815 - val_loss: 441.2524\n",
      "Epoch 40/100\n",
      "1712/1712 [==============================] - 2s 883us/step - loss: 427.9645 - val_loss: 420.6036\n",
      "Epoch 41/100\n",
      "1712/1712 [==============================] - 2s 890us/step - loss: 407.8628 - val_loss: 400.8320\n",
      "Epoch 42/100\n",
      "1712/1712 [==============================] - 2s 925us/step - loss: 388.6132 - val_loss: 381.9535\n",
      "Epoch 43/100\n",
      "1712/1712 [==============================] - 2s 889us/step - loss: 370.2560 - val_loss: 363.9243\n",
      "Epoch 44/100\n",
      "1712/1712 [==============================] - 2s 886us/step - loss: 352.7245 - val_loss: 346.6963\n",
      "Epoch 45/100\n",
      "1712/1712 [==============================] - 2s 896us/step - loss: 335.9593 - val_loss: 330.2277\n",
      "Epoch 46/100\n",
      "1712/1712 [==============================] - 2s 885us/step - loss: 319.9369 - val_loss: 314.4902\n",
      "Epoch 47/100\n",
      "1712/1712 [==============================] - 2s 885us/step - loss: 304.6239 - val_loss: 299.4356\n",
      "Epoch 48/100\n",
      "1712/1712 [==============================] - 2s 910us/step - loss: 289.9895 - val_loss: 285.0621\n",
      "Epoch 49/100\n",
      "1712/1712 [==============================] - 2s 901us/step - loss: 276.0182 - val_loss: 271.3417\n",
      "Epoch 50/100\n",
      "1712/1712 [==============================] - 2s 881us/step - loss: 262.6845 - val_loss: 258.2317\n",
      "Epoch 51/100\n",
      "1712/1712 [==============================] - 2s 885us/step - loss: 249.9398 - val_loss: 245.6912\n",
      "Epoch 52/100\n",
      "1712/1712 [==============================] - 2s 895us/step - loss: 237.7556 - val_loss: 233.7187\n",
      "Epoch 53/100\n",
      "1712/1712 [==============================] - 2s 879us/step - loss: 226.1323 - val_loss: 222.3023\n",
      "Epoch 54/100\n",
      "1712/1712 [==============================] - 2s 928us/step - loss: 215.0435 - val_loss: 211.4111\n",
      "Epoch 55/100\n",
      "1712/1712 [==============================] - 2s 883us/step - loss: 204.4664 - val_loss: 201.0154\n",
      "Epoch 56/100\n",
      "1712/1712 [==============================] - 2s 881us/step - loss: 194.3751 - val_loss: 191.0806\n",
      "Epoch 57/100\n",
      "1712/1712 [==============================] - 2s 903us/step - loss: 184.7292 - val_loss: 181.6183\n",
      "Epoch 58/100\n",
      "1712/1712 [==============================] - 2s 892us/step - loss: 175.5528 - val_loss: 172.6069\n",
      "Epoch 59/100\n",
      "1712/1712 [==============================] - 2s 885us/step - loss: 166.8147 - val_loss: 164.0188\n",
      "Epoch 60/100\n",
      "1712/1712 [==============================] - 2s 915us/step - loss: 158.4856 - val_loss: 155.8222\n",
      "Epoch 61/100\n",
      "1712/1712 [==============================] - 2s 885us/step - loss: 150.5336 - val_loss: 148.0155\n",
      "Epoch 62/100\n",
      "1712/1712 [==============================] - 2s 877us/step - loss: 142.9706 - val_loss: 140.5689\n",
      "Epoch 63/100\n",
      "1712/1712 [==============================] - 2s 913us/step - loss: 135.7477 - val_loss: 133.4926\n",
      "Epoch 64/100\n",
      "1712/1712 [==============================] - 2s 921us/step - loss: 128.8929 - val_loss: 126.7433\n",
      "Epoch 65/100\n",
      "1712/1712 [==============================] - 2s 894us/step - loss: 122.3588 - val_loss: 120.3220\n",
      "Epoch 66/100\n",
      "1712/1712 [==============================] - 2s 877us/step - loss: 116.1471 - val_loss: 114.2076\n",
      "Epoch 67/100\n",
      "1712/1712 [==============================] - 2s 886us/step - loss: 110.2256 - val_loss: 108.4026\n",
      "Epoch 68/100\n",
      "1712/1712 [==============================] - 1s 876us/step - loss: 104.6122 - val_loss: 102.8844\n",
      "Epoch 69/100\n",
      "1712/1712 [==============================] - 2s 886us/step - loss: 99.2724 - val_loss: 97.6327\n",
      "Epoch 70/100\n",
      "1712/1712 [==============================] - 2s 893us/step - loss: 94.1973 - val_loss: 92.6401\n",
      "Epoch 71/100\n",
      "1712/1712 [==============================] - 2s 913us/step - loss: 89.3693 - val_loss: 87.8975\n",
      "Epoch 72/100\n",
      "1712/1712 [==============================] - 2s 885us/step - loss: 84.7911 - val_loss: 83.4016\n",
      "Epoch 73/100\n",
      "1712/1712 [==============================] - 2s 882us/step - loss: 80.4464 - val_loss: 79.1361\n",
      "Epoch 74/100\n",
      "1712/1712 [==============================] - 2s 883us/step - loss: 76.3262 - val_loss: 75.0895\n"
     ]
    },
    {
     "name": "stdout",
     "output_type": "stream",
     "text": [
      "Epoch 75/100\n",
      "1712/1712 [==============================] - 2s 886us/step - loss: 72.4264 - val_loss: 71.2571\n",
      "Epoch 76/100\n",
      "1712/1712 [==============================] - 2s 898us/step - loss: 68.7271 - val_loss: 67.6105\n",
      "Epoch 77/100\n",
      "1712/1712 [==============================] - 2s 883us/step - loss: 65.2088 - val_loss: 64.1497\n",
      "Epoch 78/100\n",
      "1712/1712 [==============================] - 2s 908us/step - loss: 61.8723 - val_loss: 60.8772\n",
      "Epoch 79/100\n",
      "1712/1712 [==============================] - 2s 877us/step - loss: 58.7225 - val_loss: 57.7719\n",
      "Epoch 80/100\n",
      "1712/1712 [==============================] - 2s 892us/step - loss: 55.7311 - val_loss: 54.8395\n",
      "Epoch 81/100\n",
      "1712/1712 [==============================] - 2s 883us/step - loss: 52.9139 - val_loss: 52.0617\n",
      "Epoch 82/100\n",
      "1712/1712 [==============================] - 2s 888us/step - loss: 50.2352 - val_loss: 49.4391\n",
      "Epoch 83/100\n",
      "1712/1712 [==============================] - 2s 880us/step - loss: 47.7162 - val_loss: 46.9597\n",
      "Epoch 84/100\n",
      "1712/1712 [==============================] - 2s 882us/step - loss: 45.3379 - val_loss: 44.6216\n",
      "Epoch 85/100\n",
      "1712/1712 [==============================] - 1s 872us/step - loss: 43.0927 - val_loss: 42.4213\n",
      "Epoch 86/100\n",
      "1712/1712 [==============================] - 1s 872us/step - loss: 40.9830 - val_loss: 40.3398\n",
      "Epoch 87/100\n",
      "1712/1712 [==============================] - 2s 888us/step - loss: 38.9849 - val_loss: 38.3780\n",
      "Epoch 88/100\n",
      "1712/1712 [==============================] - 2s 884us/step - loss: 37.1081 - val_loss: 36.5266\n",
      "Epoch 89/100\n",
      "1712/1712 [==============================] - 2s 896us/step - loss: 35.3333 - val_loss: 34.7861\n",
      "Epoch 90/100\n",
      "1712/1712 [==============================] - 2s 899us/step - loss: 33.6710 - val_loss: 33.1486\n",
      "Epoch 91/100\n",
      "1712/1712 [==============================] - 2s 884us/step - loss: 32.1023 - val_loss: 31.6052\n",
      "Epoch 92/100\n",
      "1712/1712 [==============================] - 2s 882us/step - loss: 30.6267 - val_loss: 30.1441\n",
      "Epoch 93/100\n",
      "1712/1712 [==============================] - 2s 910us/step - loss: 29.2272 - val_loss: 28.7708\n",
      "Epoch 94/100\n",
      "1712/1712 [==============================] - 2s 877us/step - loss: 27.9172 - val_loss: 27.4817\n",
      "Epoch 95/100\n",
      "1712/1712 [==============================] - 2s 881us/step - loss: 26.6926 - val_loss: 26.2809\n",
      "Epoch 96/100\n",
      "1712/1712 [==============================] - 2s 916us/step - loss: 25.5520 - val_loss: 25.1573\n",
      "Epoch 97/100\n",
      "1712/1712 [==============================] - 2s 896us/step - loss: 24.4827 - val_loss: 24.0956\n",
      "Epoch 98/100\n",
      "1712/1712 [==============================] - 2s 887us/step - loss: 23.4695 - val_loss: 23.0953\n",
      "Epoch 99/100\n",
      "1712/1712 [==============================] - 2s 883us/step - loss: 22.5186 - val_loss: 22.1505\n",
      "Epoch 100/100\n",
      "1712/1712 [==============================] - 2s 884us/step - loss: 21.6218 - val_loss: 21.2673\n"
     ]
    }
   ],
   "source": [
    "input_shape=(IMAGE_ROWS, IMAGE_COLS, 1)\n",
    "\n",
    "model = Sequential()\n",
    "model.add(Conv2D(32,\n",
    "                  kernel_size=(3, 3),\n",
    "                  strides=(1,1),\n",
    "                  activation='relu',\n",
    "                  input_shape=input_shape))\n",
    "model.add(MaxPooling2D(pool_size=(2, 2), strides=(2, 2)))\n",
    "model.add(Flatten(input_shape=input_shape))\n",
    "model.add(Dense(30, activation = \"tanh\")) #changed to tanh because relu blew up\n",
    "model.add(Dense(30))\n",
    "fit_model(model=model,data=data)"
   ]
  },
  {
   "cell_type": "code",
   "execution_count": null,
   "metadata": {
    "collapsed": true
   },
   "outputs": [],
   "source": []
  },
  {
   "cell_type": "code",
   "execution_count": null,
   "metadata": {
    "collapsed": true
   },
   "outputs": [],
   "source": []
  },
  {
   "cell_type": "code",
   "execution_count": null,
   "metadata": {
    "collapsed": true
   },
   "outputs": [],
   "source": [
    "keras.layers.MaxPooling2D(pool_size=(2, 2), strides=None, padding='valid', data_format=None)\n",
    "\n",
    "keras.layers.Conv2D(filters, kernel_size, strides=(1, 1), padding='valid',\n",
    "                    data_format=None, dilation_rate=(1, 1), activation=None,\n",
    "                    use_bias=True, kernel_initializer='glorot_uniform',\n",
    "                    bias_initializer='zeros', kernel_regularizer=None,\n",
    "                    bias_regularizer=None, activity_regularizer=None,\n",
    "                    kernel_constraint=None, bias_constraint=None)\n",
    "\n",
    "keras.layers.Dense(units, activation=None, use_bias=True, \n",
    "                   kernel_initializer='glorot_uniform', \n",
    "                   bias_initializer='zeros', kernel_regularizer=None, \n",
    "                   bias_regularizer=None, activity_regularizer=None, \n",
    "                   kernel_constraint=None, bias_constraint=None)\n",
    "\n",
    "keras.layers.Dropout(rate, noise_shape=None, seed=None)\n"
   ]
  },
  {
   "cell_type": "code",
   "execution_count": 21,
   "metadata": {
    "collapsed": true
   },
   "outputs": [],
   "source": []
  },
  {
   "cell_type": "code",
   "execution_count": 22,
   "metadata": {},
   "outputs": [
    {
     "name": "stdout",
     "output_type": "stream",
     "text": [
      "(1712, 30)\n"
     ]
    }
   ],
   "source": [
    "# try a LeNet Architecture - not tested yet\n",
    "def make_lenet():\n",
    "    input_shape = (IMAGE_ROWS, IMAGE_COLS, 1)\n",
    "    LeNet = Sequential()\n",
    "    LeNet.add(Conv2D(32,\n",
    "                     (3, 3),\n",
    "                     activation='relu',\n",
    "                    input_shape=input_shape))\n",
    "    LeNet.add(MaxPooling2D(pool_size=(2, 2)))\n",
    "    LeNet.add(Dropout(.1))\n",
    "\n",
    "#     LeNet.add(Conv2D(filters=64,\n",
    "#                      kernel_size=(2, 2),\n",
    "#                      activation='relu',\n",
    "#                     input_shape=input_shape))\n",
    "#     LeNet.add(MaxPooling2D(pool_size=(2, 2)))\n",
    "#     LeNet.add(Dropout(.2))\n",
    "    LeNet.add(Flatten())\n",
    "    LeNet.add(Dense(270, activation = \"relu\"))\n",
    "    LeNet.add(Dropout(0.5))\n",
    "    LeNet.add(Dense(90, activation = \"tanh\"))\n",
    "    LeNet.add(Dropout(0.5))\n",
    "    LeNet.add(Dense(30))\n",
    "    \n",
    "    return LeNet\n"
   ]
  }
 ],
 "metadata": {
  "kernelspec": {
   "display_name": "Python 3",
   "language": "python",
   "name": "python3"
  },
  "language_info": {
   "codemirror_mode": {
    "name": "ipython",
    "version": 3
   },
   "file_extension": ".py",
   "mimetype": "text/x-python",
   "name": "python",
   "nbconvert_exporter": "python",
   "pygments_lexer": "ipython3",
   "version": "3.6.2"
  }
 },
 "nbformat": 4,
 "nbformat_minor": 2
}
