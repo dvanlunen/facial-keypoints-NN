{
 "cells": [
  {
   "cell_type": "markdown",
   "metadata": {},
   "source": [
    "## Key Takeaways\n",
    "\n",
    "### For NNs using Images\n",
    "- Convolutions are helpful\n",
    "- SGD isn't as good as newer optimizers like Adam and NesterovAdam - https://towardsdatascience.com/types-of-optimization-algorithms-used-in-neural-networks-and-ways-to-optimize-gradient-95ae5d39529f\n",
    "- normalization is helpful (both of the features and the output) and helps prevent divergence\n",
    "- batch normalization works well after the activation https://github.com/ducha-aiki/caffenet-benchmark/blob/master/batchnorm.md\n",
    "\n",
    "\n",
    "### Generally\n",
    "- Never trust the data blindly"
   ]
  },
  {
   "cell_type": "markdown",
   "metadata": {},
   "source": [
    "## Setup"
   ]
  },
  {
   "cell_type": "markdown",
   "metadata": {},
   "source": [
    "### Imports"
   ]
  },
  {
   "cell_type": "code",
   "execution_count": 27,
   "metadata": {},
   "outputs": [
    {
     "name": "stdout",
     "output_type": "stream",
     "text": [
      "[name: \"/device:CPU:0\"\n",
      "device_type: \"CPU\"\n",
      "memory_limit: 268435456\n",
      "locality {\n",
      "}\n",
      "incarnation: 5090030199252051755\n",
      ", name: \"/device:GPU:0\"\n",
      "device_type: \"GPU\"\n",
      "memory_limit: 144677273\n",
      "locality {\n",
      "  bus_id: 1\n",
      "}\n",
      "incarnation: 3676832405386477330\n",
      "physical_device_desc: \"device: 0, name: GeForce GTX 1060 6GB, pci bus id: 0000:01:00.0, compute capability: 6.1\"\n",
      "]\n"
     ]
    }
   ],
   "source": [
    "%matplotlib inline\n",
    "from pandas.io.parsers import read_csv\n",
    "from sklearn.model_selection import train_test_split\n",
    "\n",
    "import os\n",
    "import numpy as np\n",
    "import matplotlib.pyplot as plt\n",
    "\n",
    "from keras.models import Sequential\n",
    "from keras.layers import Dense, Conv2D, MaxPooling2D, Flatten, Dropout, BatchNormalization\n",
    "from keras.optimizers import Nadam\n",
    "from keras.callbacks import EarlyStopping, Callback, History\n",
    "\n",
    "from tensorflow.python.client import device_lib\n",
    "\n",
    "from augmentdata.CustImageDataGenerator import CustImageDataGenerator,CustNumpyArrayIterator\n",
    "\n",
    "print(device_lib.list_local_devices()) # confirm using GPU"
   ]
  },
  {
   "cell_type": "markdown",
   "metadata": {},
   "source": [
    "### Constants"
   ]
  },
  {
   "cell_type": "code",
   "execution_count": 2,
   "metadata": {},
   "outputs": [],
   "source": [
    "TRAIN_DATA = '../data/training.csv'\n",
    "TEST_DATA = '../data/test.csv'\n",
    "IMAGE_ROWS = 96\n",
    "IMAGE_COLS = 96\n",
    "INPUT_SHAPE = (IMAGE_ROWS, IMAGE_COLS, 1)"
   ]
  },
  {
   "cell_type": "markdown",
   "metadata": {},
   "source": [
    "### Load the Data"
   ]
  },
  {
   "cell_type": "code",
   "execution_count": 3,
   "metadata": {},
   "outputs": [],
   "source": [
    "def loader(test=False, seed=None, keeplabels=None):\n",
    "    if seed:\n",
    "        np.random.seed(seed)\n",
    "    fileloc = TEST_DATA if test else TRAIN_DATA\n",
    "    \n",
    "    df = read_csv(fileloc)\n",
    "    \n",
    "    df['Image'] = df['Image'].apply(lambda x: np.fromstring(x, sep=' '))\n",
    "    \n",
    "    if keeplabels:\n",
    "        df = df[list(keeplabels) + ['Image']]\n",
    "        \n",
    "    df = df.dropna() # drop rows with missing labels\n",
    "    \n",
    "    X = np.vstack(df['Image'])\n",
    "    # by pixel across the whole dataset subtract mean and divide by stdev\n",
    "    X = X - np.tile(np.mean(X,axis=0),(X.shape[0],1))\n",
    "    X = X / np.tile(np.std(X,axis=0),(X.shape[0],1))\n",
    "    X = X.astype(np.float32)\n",
    "    \n",
    "    if not test:\n",
    "        y = df[df.columns.difference(['Image'])].values\n",
    "        y = y.astype(np.float32)\n",
    "        y = (y - 48) / 48 # this helps, but tanh on output doesnt\n",
    "        shuffle = np.random.permutation(np.arange(X.shape[0]))\n",
    "        X, y = X[shuffle], y[shuffle]\n",
    "    else:\n",
    "        y = None\n",
    "    \n",
    "    X = X.reshape(-1, 96, 96, 1)\n",
    "\n",
    "    return X, y, df.columns.difference(['Image'])\n"
   ]
  },
  {
   "cell_type": "code",
   "execution_count": 4,
   "metadata": {},
   "outputs": [],
   "source": [
    "X, y, labels = loader(seed=42)\n",
    "X_train, X_test, y_train, y_test = train_test_split(X, y,\n",
    "                                                        test_size=0.2,\n",
    "                                                        random_state=42)\n",
    "data=[X_train, X_test, y_train, y_test]"
   ]
  },
  {
   "cell_type": "markdown",
   "metadata": {},
   "source": [
    "### Plot an Example Image"
   ]
  },
  {
   "cell_type": "code",
   "execution_count": 5,
   "metadata": {},
   "outputs": [
    {
     "data": {
      "image/png": "[encoded data removed]",
      "text/plain": [
       "<Figure size 288x288 with 1 Axes>"
      ]
     },
     "metadata": {},
     "output_type": "display_data"
    }
   ],
   "source": [
    "def plot_image(image, points, labels=list(labels)):\n",
    "    \"\"\"Helper function to plot images\"\"\"\n",
    "    plt.figure(figsize=(4,4))\n",
    "    plt.imshow(np.reshape(image,(96,96)), cmap = 'gray')\n",
    "    x = 0\n",
    "    for i, label in enumerate(labels):\n",
    "        if label[-1]=='x':\n",
    "            x = points[i]\n",
    "        else:\n",
    "            if label in ['left_eye_center_y',\n",
    "                         'left_eye_inner_corner_y', \n",
    "                         'left_eye_outer_corner_y', \n",
    "                         'left_eyebrow_inner_end_y', \n",
    "                         'left_eyebrow_outer_end_y',\n",
    "                         'mouth_left_corner_y'\n",
    "                        ]:\n",
    "                plt.plot(x, points[i], 'b<')\n",
    "            elif label in ['right_eye_center_y',\n",
    "                         'right_eye_inner_corner_y', \n",
    "                         'right_eye_outer_corner_y', \n",
    "                         'right_eyebrow_inner_end_y', \n",
    "                         'right_eyebrow_outer_end_y',\n",
    "                          'mouth_right_corner_y']:\n",
    "                plt.plot(x, points[i], 'r>')\n",
    "            else:\n",
    "                plt.plot(x, points[i],'g.')\n",
    "    plt.axis('off')\n",
    "\n",
    "\n",
    "\n",
    "plot_image(X_train[0], 48*y_train[0]+48, labels)\n"
   ]
  },
  {
   "cell_type": "markdown",
   "metadata": {},
   "source": [
    "### Model Fitting Function"
   ]
  },
  {
   "cell_type": "code",
   "execution_count": 6,
   "metadata": {},
   "outputs": [],
   "source": [
    "def fit_model(model, data, epochs=1000, patience=100):\n",
    "    X_train = data[0]\n",
    "    X_test = data[1]\n",
    "    y_train = data[2]\n",
    "    y_test = data[3]\n",
    "    model.compile(loss='mse', optimizer=Nadam())\n",
    "    earlystop = EarlyStopping(monitor='loss',\n",
    "                             patience=patience,\n",
    "                             verbose=1,\n",
    "                             mode=\"auto\")\n",
    "    callbacks = [earlystop]\n",
    "    history = model.fit(X_train, y_train,\n",
    "                        epochs=epochs,\n",
    "                        batch_size=32,\n",
    "                        callbacks=callbacks,\n",
    "                        validation_data=(X_test, y_test)\n",
    "             )\n",
    "    return history"
   ]
  },
  {
   "cell_type": "markdown",
   "metadata": {},
   "source": [
    "### Helper function to plot the loss"
   ]
  },
  {
   "cell_type": "code",
   "execution_count": 7,
   "metadata": {},
   "outputs": [],
   "source": [
    "def plot_loss(hists, names):\n",
    "    colordict = {\n",
    "        0 : 'b',\n",
    "        1 : 'g',\n",
    "        2 : 'r'\n",
    "    }\n",
    "    \n",
    "    for i, hist in enumerate(hists):\n",
    "        plt.plot([np.sqrt(x) * 48 for x in hist.history['loss']],\n",
    "                 color=colordict[i],\n",
    "                 label=\"train \" + names[i])\n",
    "        plt.plot([np.sqrt(x) * 48 for x in hist.history['val_loss']],\n",
    "                 color=colordict[i],\n",
    "                 linestyle='dashed',\n",
    "                 label=\"valid \" + names[i])\n",
    "        plt.grid()\n",
    "        plt.legend()\n",
    "        plt.xlabel(\"epoch\")\n",
    "        plt.ylabel(\"RMSE\")\n",
    "        plt.yscale(\"log\")\n",
    "    plt.show()"
   ]
  },
  {
   "cell_type": "markdown",
   "metadata": {
    "collapsed": true
   },
   "source": [
    "## Models \n",
    "### 1 Dense Hidden Layer with 100 units"
   ]
  },
  {
   "cell_type": "code",
   "execution_count": 8,
   "metadata": {},
   "outputs": [
    {
     "name": "stdout",
     "output_type": "stream",
     "text": [
      "_________________________________________________________________\n",
      "Layer (type)                 Output Shape              Param #   \n",
      "=================================================================\n",
      "flatten_1 (Flatten)          (None, 9216)              0         \n",
      "_________________________________________________________________\n",
      "dense_1 (Dense)              (None, 100)               921700    \n",
      "_________________________________________________________________\n",
      "dense_2 (Dense)              (None, 30)                3030      \n",
      "=================================================================\n",
      "Total params: 924,730\n",
      "Trainable params: 924,730\n",
      "Non-trainable params: 0\n",
      "_________________________________________________________________\n",
      "None\n"
     ]
    }
   ],
   "source": [
    "model1 = Sequential()\n",
    "model1.add(Flatten(input_shape=INPUT_SHAPE))\n",
    "model1.add(Dense(100, activation='relu'))\n",
    "model1.add(Dense(30))\n",
    "print(model1.summary())"
   ]
  },
  {
   "cell_type": "code",
   "execution_count": 9,
   "metadata": {
    "scrolled": true
   },
   "outputs": [
    {
     "name": "stdout",
     "output_type": "stream",
     "text": [
      "Train on 1712 samples, validate on 428 samples\n",
      "Epoch 1/1000\n",
      "1712/1712 [==============================] - 1s 713us/step - loss: 18.6602 - val_loss: 3.0055\n",
      "Epoch 2/1000\n",
      "1712/1712 [==============================] - 0s 195us/step - loss: 9.9308 - val_loss: 4.1882\n",
      "Epoch 3/1000\n",
      "1712/1712 [==============================] - 0s 213us/step - loss: 1.4038 - val_loss: 3.1449\n",
      "Epoch 4/1000\n",
      "1712/1712 [==============================] - 0s 187us/step - loss: 10.7696 - val_loss: 1.3008\n",
      "Epoch 5/1000\n",
      "1712/1712 [==============================] - 0s 194us/step - loss: 6.9898 - val_loss: 1.4946\n",
      "Epoch 6/1000\n",
      "1712/1712 [==============================] - 0s 197us/step - loss: 0.6708 - val_loss: 0.4685\n",
      "Epoch 7/1000\n",
      "1712/1712 [==============================] - 0s 191us/step - loss: 0.6334 - val_loss: 0.5065\n",
      "Epoch 8/1000\n",
      "1712/1712 [==============================] - 0s 196us/step - loss: 0.2702 - val_loss: 0.3307\n",
      "Epoch 9/1000\n",
      "1712/1712 [==============================] - 0s 203us/step - loss: 0.2840 - val_loss: 0.2954\n",
      "Epoch 10/1000\n",
      "1712/1712 [==============================] - 0s 225us/step - loss: 0.2011 - val_loss: 0.2789\n",
      "Epoch 11/1000\n",
      "1712/1712 [==============================] - 0s 194us/step - loss: 5.5801 - val_loss: 8.9048\n",
      "Epoch 12/1000\n",
      "1712/1712 [==============================] - 0s 202us/step - loss: 0.9334 - val_loss: 0.4468\n",
      "Epoch 13/1000\n",
      "1712/1712 [==============================] - 0s 193us/step - loss: 0.3382 - val_loss: 0.2894\n",
      "Epoch 14/1000\n",
      "1712/1712 [==============================] - 0s 209us/step - loss: 0.1590 - val_loss: 0.2079\n",
      "Epoch 15/1000\n",
      "1712/1712 [==============================] - 0s 199us/step - loss: 0.1348 - val_loss: 0.1852\n",
      "Epoch 16/1000\n",
      "1712/1712 [==============================] - 0s 206us/step - loss: 0.1439 - val_loss: 0.1476\n",
      "Epoch 17/1000\n",
      "1712/1712 [==============================] - 0s 222us/step - loss: 0.1844 - val_loss: 0.2064\n",
      "Epoch 18/1000\n",
      "1712/1712 [==============================] - 0s 202us/step - loss: 0.1061 - val_loss: 0.1167\n",
      "Epoch 19/1000\n",
      "1712/1712 [==============================] - 0s 223us/step - loss: 0.0857 - val_loss: 0.2118\n",
      "Epoch 20/1000\n",
      "1712/1712 [==============================] - 0s 230us/step - loss: 0.1354 - val_loss: 0.3051\n",
      "Epoch 21/1000\n",
      "1712/1712 [==============================] - 0s 217us/step - loss: 0.1393 - val_loss: 0.3068\n",
      "Epoch 22/1000\n",
      "1712/1712 [==============================] - 0s 203us/step - loss: 0.3981 - val_loss: 0.3572\n",
      "Epoch 23/1000\n",
      "1712/1712 [==============================] - 0s 194us/step - loss: 0.1131 - val_loss: 0.2706\n",
      "Epoch 24/1000\n",
      "1712/1712 [==============================] - 0s 199us/step - loss: 0.1100 - val_loss: 0.2269\n",
      "Epoch 25/1000\n",
      "1712/1712 [==============================] - 0s 192us/step - loss: 0.0901 - val_loss: 0.1457\n",
      "Epoch 26/1000\n",
      "1712/1712 [==============================] - 0s 193us/step - loss: 94.4199 - val_loss: 31.6669\n",
      "Epoch 27/1000\n",
      "1712/1712 [==============================] - 0s 184us/step - loss: 11.9055 - val_loss: 2.1367\n",
      "Epoch 28/1000\n",
      "1712/1712 [==============================] - 0s 224us/step - loss: 1.3043 - val_loss: 1.0081\n",
      "Epoch 29/1000\n",
      "1712/1712 [==============================] - 0s 219us/step - loss: 0.6762 - val_loss: 0.7388\n",
      "Epoch 00029: early stopping\n"
     ]
    }
   ],
   "source": [
    "model1_hist = fit_model(model1,data,epochs=1000,patience=10)"
   ]
  },
  {
   "cell_type": "code",
   "execution_count": 10,
   "metadata": {
    "scrolled": true
   },
   "outputs": [
    {
     "data": {
      "image/png": "[encoded data removed]",
      "text/plain": [
       "<Figure size 432x288 with 1 Axes>"
      ]
     },
     "metadata": {},
     "output_type": "display_data"
    }
   ],
   "source": [
    "plot_loss([model1_hist],['dense1'])"
   ]
  },
  {
   "cell_type": "code",
   "execution_count": 11,
   "metadata": {},
   "outputs": [
    {
     "name": "stdout",
     "output_type": "stream",
     "text": [
      "_________________________________________________________________\n",
      "Layer (type)                 Output Shape              Param #   \n",
      "=================================================================\n",
      "flatten_2 (Flatten)          (None, 9216)              0         \n",
      "_________________________________________________________________\n",
      "dense_3 (Dense)              (None, 100)               921700    \n",
      "_________________________________________________________________\n",
      "batch_normalization_1 (Batch (None, 100)               400       \n",
      "_________________________________________________________________\n",
      "dense_4 (Dense)              (None, 30)                3030      \n",
      "=================================================================\n",
      "Total params: 925,130\n",
      "Trainable params: 924,930\n",
      "Non-trainable params: 200\n",
      "_________________________________________________________________\n",
      "None\n"
     ]
    }
   ],
   "source": [
    "model1BN = Sequential()\n",
    "model1BN.add(Flatten(input_shape=INPUT_SHAPE))\n",
    "model1BN.add(Dense(100, activation='relu'))\n",
    "model1BN.add(BatchNormalization())\n",
    "model1BN.add(Dense(30))\n",
    "print(model1BN.summary())\n"
   ]
  },
  {
   "cell_type": "code",
   "execution_count": 12,
   "metadata": {},
   "outputs": [
    {
     "name": "stdout",
     "output_type": "stream",
     "text": [
      "Train on 1712 samples, validate on 428 samples\n",
      "Epoch 1/1000\n",
      "1712/1712 [==============================] - 1s 399us/step - loss: 0.3524 - val_loss: 0.0636\n",
      "Epoch 2/1000\n",
      "1712/1712 [==============================] - 0s 246us/step - loss: 0.0217 - val_loss: 0.0192\n",
      "Epoch 3/1000\n",
      "1712/1712 [==============================] - 0s 268us/step - loss: 0.0101 - val_loss: 0.0101\n",
      "Epoch 4/1000\n",
      "1712/1712 [==============================] - 0s 239us/step - loss: 0.0070 - val_loss: 0.0076\n",
      "Epoch 5/1000\n",
      "1712/1712 [==============================] - 0s 258us/step - loss: 0.0051 - val_loss: 0.0053\n",
      "Epoch 6/1000\n",
      "1712/1712 [==============================] - 1s 313us/step - loss: 0.0044 - val_loss: 0.0076\n",
      "Epoch 7/1000\n",
      "1712/1712 [==============================] - 1s 310us/step - loss: 0.0039 - val_loss: 0.0045\n",
      "Epoch 8/1000\n",
      "1712/1712 [==============================] - 0s 274us/step - loss: 0.0032 - val_loss: 0.0043\n",
      "Epoch 9/1000\n",
      "1712/1712 [==============================] - 0s 252us/step - loss: 0.0029 - val_loss: 0.0057\n",
      "Epoch 10/1000\n",
      "1712/1712 [==============================] - 0s 264us/step - loss: 0.0031 - val_loss: 0.0035\n",
      "Epoch 11/1000\n",
      "1712/1712 [==============================] - 0s 281us/step - loss: 0.0029 - val_loss: 0.0051\n",
      "Epoch 12/1000\n",
      "1712/1712 [==============================] - 0s 244us/step - loss: 0.0030 - val_loss: 0.0041\n",
      "Epoch 13/1000\n",
      "1712/1712 [==============================] - 0s 244us/step - loss: 0.0027 - val_loss: 0.0034\n",
      "Epoch 14/1000\n",
      "1712/1712 [==============================] - 0s 261us/step - loss: 0.0024 - val_loss: 0.0043\n",
      "Epoch 15/1000\n",
      "1712/1712 [==============================] - 0s 245us/step - loss: 0.0025 - val_loss: 0.0041\n",
      "Epoch 16/1000\n",
      "1712/1712 [==============================] - 0s 274us/step - loss: 0.0025 - val_loss: 0.0048\n",
      "Epoch 17/1000\n",
      "1712/1712 [==============================] - 0s 241us/step - loss: 0.0028 - val_loss: 0.0035\n",
      "Epoch 18/1000\n",
      "1712/1712 [==============================] - 0s 254us/step - loss: 0.0024 - val_loss: 0.0037\n",
      "Epoch 19/1000\n",
      "1712/1712 [==============================] - 0s 263us/step - loss: 0.0025 - val_loss: 0.0030\n",
      "Epoch 20/1000\n",
      "1712/1712 [==============================] - 0s 254us/step - loss: 0.0023 - val_loss: 0.0038\n",
      "Epoch 21/1000\n",
      "1712/1712 [==============================] - 0s 253us/step - loss: 0.0023 - val_loss: 0.0030\n",
      "Epoch 22/1000\n",
      "1712/1712 [==============================] - 0s 263us/step - loss: 0.0023 - val_loss: 0.0038\n",
      "Epoch 23/1000\n",
      "1712/1712 [==============================] - 0s 243us/step - loss: 0.0025 - val_loss: 0.0054\n",
      "Epoch 24/1000\n",
      "1712/1712 [==============================] - 1s 323us/step - loss: 0.0024 - val_loss: 0.0036\n",
      "Epoch 25/1000\n",
      "1712/1712 [==============================] - 0s 280us/step - loss: 0.0022 - val_loss: 0.0051\n",
      "Epoch 26/1000\n",
      "1712/1712 [==============================] - 0s 242us/step - loss: 0.0026 - val_loss: 0.0045\n",
      "Epoch 27/1000\n",
      "1712/1712 [==============================] - 0s 244us/step - loss: 0.0025 - val_loss: 0.0033\n",
      "Epoch 28/1000\n",
      "1712/1712 [==============================] - 0s 263us/step - loss: 0.0023 - val_loss: 0.0043\n",
      "Epoch 29/1000\n",
      "1712/1712 [==============================] - 0s 244us/step - loss: 0.0022 - val_loss: 0.0039\n",
      "Epoch 30/1000\n",
      "1712/1712 [==============================] - 0s 251us/step - loss: 0.0023 - val_loss: 0.0031\n",
      "Epoch 31/1000\n",
      "1712/1712 [==============================] - 0s 244us/step - loss: 0.0026 - val_loss: 0.0075\n",
      "Epoch 32/1000\n",
      "1712/1712 [==============================] - 0s 262us/step - loss: 0.0026 - val_loss: 0.0040\n",
      "Epoch 33/1000\n",
      "1712/1712 [==============================] - 0s 275us/step - loss: 0.0024 - val_loss: 0.0038\n",
      "Epoch 34/1000\n",
      "1712/1712 [==============================] - 0s 261us/step - loss: 0.0021 - val_loss: 0.0028\n",
      "Epoch 35/1000\n",
      "1712/1712 [==============================] - 0s 251us/step - loss: 0.0020 - val_loss: 0.0056\n",
      "Epoch 36/1000\n",
      "1712/1712 [==============================] - 0s 275us/step - loss: 0.0022 - val_loss: 0.0041\n",
      "Epoch 37/1000\n",
      "1712/1712 [==============================] - 0s 267us/step - loss: 0.0025 - val_loss: 0.0064\n",
      "Epoch 38/1000\n",
      "1712/1712 [==============================] - 0s 257us/step - loss: 0.0028 - val_loss: 0.0115\n",
      "Epoch 39/1000\n",
      "1712/1712 [==============================] - 0s 249us/step - loss: 0.0045 - val_loss: 0.0113\n",
      "Epoch 40/1000\n",
      "1712/1712 [==============================] - 0s 236us/step - loss: 0.0025 - val_loss: 0.0082\n",
      "Epoch 41/1000\n",
      "1712/1712 [==============================] - 0s 255us/step - loss: 0.0023 - val_loss: 0.0033\n",
      "Epoch 42/1000\n",
      "1712/1712 [==============================] - 0s 259us/step - loss: 0.0021 - val_loss: 0.0029\n",
      "Epoch 43/1000\n",
      "1712/1712 [==============================] - 0s 262us/step - loss: 0.0020 - val_loss: 0.0041\n",
      "Epoch 44/1000\n",
      "1712/1712 [==============================] - 0s 234us/step - loss: 0.0021 - val_loss: 0.0040\n",
      "Epoch 45/1000\n",
      "1712/1712 [==============================] - 0s 262us/step - loss: 0.0021 - val_loss: 0.0044\n",
      "Epoch 00045: early stopping\n"
     ]
    },
    {
     "data": {
      "image/png": "[encoded data removed]",
      "text/plain": [
       "<Figure size 432x288 with 1 Axes>"
      ]
     },
     "metadata": {},
     "output_type": "display_data"
    }
   ],
   "source": [
    "model1BN_hist = fit_model(model1BN,data,epochs=1000,patience=10)\n",
    "plot_loss([model1_hist,model1BN_hist],['dense1','dense1_BN'])"
   ]
  },
  {
   "cell_type": "markdown",
   "metadata": {},
   "source": [
    "### Model with convolutions"
   ]
  },
  {
   "cell_type": "code",
   "execution_count": 17,
   "metadata": {},
   "outputs": [
    {
     "name": "stdout",
     "output_type": "stream",
     "text": [
      "_________________________________________________________________\n",
      "Layer (type)                 Output Shape              Param #   \n",
      "=================================================================\n",
      "conv2d_4 (Conv2D)            (None, 94, 94, 32)        320       \n",
      "_________________________________________________________________\n",
      "batch_normalization_5 (Batch (None, 94, 94, 32)        128       \n",
      "_________________________________________________________________\n",
      "max_pooling2d_4 (MaxPooling2 (None, 47, 47, 32)        0         \n",
      "_________________________________________________________________\n",
      "conv2d_5 (Conv2D)            (None, 46, 46, 64)        8256      \n",
      "_________________________________________________________________\n",
      "batch_normalization_6 (Batch (None, 46, 46, 64)        256       \n",
      "_________________________________________________________________\n",
      "max_pooling2d_5 (MaxPooling2 (None, 23, 23, 64)        0         \n",
      "_________________________________________________________________\n",
      "conv2d_6 (Conv2D)            (None, 22, 22, 128)       32896     \n",
      "_________________________________________________________________\n",
      "batch_normalization_7 (Batch (None, 22, 22, 128)       512       \n",
      "_________________________________________________________________\n",
      "max_pooling2d_6 (MaxPooling2 (None, 11, 11, 128)       0         \n",
      "_________________________________________________________________\n",
      "flatten_4 (Flatten)          (None, 15488)             0         \n",
      "_________________________________________________________________\n",
      "dense_8 (Dense)              (None, 500)               7744500   \n",
      "_________________________________________________________________\n",
      "batch_normalization_8 (Batch (None, 500)               2000      \n",
      "_________________________________________________________________\n",
      "dense_9 (Dense)              (None, 100)               50100     \n",
      "_________________________________________________________________\n",
      "batch_normalization_9 (Batch (None, 100)               400       \n",
      "_________________________________________________________________\n",
      "dense_10 (Dense)             (None, 30)                3030      \n",
      "=================================================================\n",
      "Total params: 7,842,398\n",
      "Trainable params: 7,840,750\n",
      "Non-trainable params: 1,648\n",
      "_________________________________________________________________\n",
      "None\n"
     ]
    }
   ],
   "source": [
    "model2 = Sequential()\n",
    "model2.add(Conv2D(32,\n",
    "                 (3, 3),\n",
    "                 activation='relu',\n",
    "                input_shape=INPUT_SHAPE))\n",
    "model2.add(BatchNormalization())\n",
    "model2.add(MaxPooling2D(pool_size=(2, 2)))\n",
    "model2.add(Conv2D(filters=64,\n",
    "                 kernel_size=(2, 2),\n",
    "                 activation='relu'))\n",
    "model2.add(BatchNormalization())\n",
    "model2.add(MaxPooling2D(pool_size=(2, 2)))\n",
    "model2.add(Conv2D(filters=128,\n",
    "                 kernel_size=(2, 2),\n",
    "                 activation='relu'))\n",
    "model2.add(BatchNormalization())\n",
    "model2.add(MaxPooling2D(pool_size=(2, 2)))\n",
    "model2.add(Flatten())\n",
    "model2.add(Dense(500, activation = \"relu\"))\n",
    "model2.add(BatchNormalization())\n",
    "model2.add(Dense(100, activation = \"relu\"))\n",
    "model2.add(BatchNormalization())\n",
    "model2.add(Dense(30))\n",
    "print(model2.summary())"
   ]
  },
  {
   "cell_type": "code",
   "execution_count": 18,
   "metadata": {},
   "outputs": [
    {
     "name": "stdout",
     "output_type": "stream",
     "text": [
      "Train on 1712 samples, validate on 428 samples\n",
      "Epoch 1/100\n",
      "1712/1712 [==============================] - 4s 2ms/step - loss: 0.2411 - val_loss: 0.0944\n",
      "Epoch 2/100\n",
      "1712/1712 [==============================] - 3s 2ms/step - loss: 0.0147 - val_loss: 0.0505\n",
      "Epoch 3/100\n",
      "1712/1712 [==============================] - 3s 2ms/step - loss: 0.0074 - val_loss: 0.0177\n",
      "Epoch 4/100\n",
      "1712/1712 [==============================] - 3s 2ms/step - loss: 0.0056 - val_loss: 0.0120\n",
      "Epoch 5/100\n",
      "1712/1712 [==============================] - 3s 2ms/step - loss: 0.0049 - val_loss: 0.0066\n",
      "Epoch 6/100\n",
      "1712/1712 [==============================] - 3s 2ms/step - loss: 0.0045 - val_loss: 0.0067\n",
      "Epoch 7/100\n",
      "1712/1712 [==============================] - 3s 2ms/step - loss: 0.0041 - val_loss: 0.0070\n",
      "Epoch 8/100\n",
      "1712/1712 [==============================] - 3s 2ms/step - loss: 0.0039 - val_loss: 0.0076\n",
      "Epoch 9/100\n",
      "1712/1712 [==============================] - 3s 2ms/step - loss: 0.0034 - val_loss: 0.0037\n",
      "Epoch 10/100\n",
      "1712/1712 [==============================] - 3s 2ms/step - loss: 0.0035 - val_loss: 0.0036\n",
      "Epoch 11/100\n",
      "1712/1712 [==============================] - 3s 2ms/step - loss: 0.0038 - val_loss: 0.0087\n",
      "Epoch 12/100\n",
      "1712/1712 [==============================] - 3s 2ms/step - loss: 0.0030 - val_loss: 0.0041\n",
      "Epoch 13/100\n",
      "1712/1712 [==============================] - 3s 2ms/step - loss: 0.0030 - val_loss: 0.0049\n",
      "Epoch 14/100\n",
      "1712/1712 [==============================] - 3s 2ms/step - loss: 0.0030 - val_loss: 0.0029\n",
      "Epoch 15/100\n",
      "1712/1712 [==============================] - 3s 2ms/step - loss: 0.0028 - val_loss: 0.0028\n",
      "Epoch 16/100\n",
      "1712/1712 [==============================] - 3s 2ms/step - loss: 0.0029 - val_loss: 0.0033\n",
      "Epoch 17/100\n",
      "1712/1712 [==============================] - 3s 2ms/step - loss: 0.0031 - val_loss: 0.0041\n",
      "Epoch 18/100\n",
      "1712/1712 [==============================] - 3s 2ms/step - loss: 0.0028 - val_loss: 0.0049\n",
      "Epoch 19/100\n",
      "1712/1712 [==============================] - 3s 2ms/step - loss: 0.0027 - val_loss: 0.0036\n",
      "Epoch 20/100\n",
      "1712/1712 [==============================] - 3s 2ms/step - loss: 0.0025 - val_loss: 0.0033\n",
      "Epoch 21/100\n",
      "1712/1712 [==============================] - 3s 2ms/step - loss: 0.0023 - val_loss: 0.0026\n",
      "Epoch 22/100\n",
      "1712/1712 [==============================] - 3s 2ms/step - loss: 0.0028 - val_loss: 0.0025\n",
      "Epoch 23/100\n",
      "1712/1712 [==============================] - 3s 2ms/step - loss: 0.0024 - val_loss: 0.0036\n",
      "Epoch 24/100\n",
      "1712/1712 [==============================] - 3s 2ms/step - loss: 0.0025 - val_loss: 0.0047\n",
      "Epoch 25/100\n",
      "1712/1712 [==============================] - 3s 2ms/step - loss: 0.0020 - val_loss: 0.0026\n",
      "Epoch 26/100\n",
      "1712/1712 [==============================] - 3s 2ms/step - loss: 0.0020 - val_loss: 0.0032\n",
      "Epoch 27/100\n",
      "1712/1712 [==============================] - 3s 2ms/step - loss: 0.0023 - val_loss: 0.0028\n",
      "Epoch 28/100\n",
      "1712/1712 [==============================] - 3s 2ms/step - loss: 0.0024 - val_loss: 0.0030\n",
      "Epoch 29/100\n",
      "1712/1712 [==============================] - 3s 2ms/step - loss: 0.0021 - val_loss: 0.0027\n",
      "Epoch 30/100\n",
      "1712/1712 [==============================] - 3s 2ms/step - loss: 0.0023 - val_loss: 0.0035\n",
      "Epoch 31/100\n",
      "1712/1712 [==============================] - 3s 2ms/step - loss: 0.0019 - val_loss: 0.0037\n",
      "Epoch 32/100\n",
      "1712/1712 [==============================] - 3s 2ms/step - loss: 0.0019 - val_loss: 0.0026\n",
      "Epoch 33/100\n",
      "1712/1712 [==============================] - 3s 2ms/step - loss: 0.0020 - val_loss: 0.0054\n",
      "Epoch 34/100\n",
      "1712/1712 [==============================] - 3s 2ms/step - loss: 0.0026 - val_loss: 0.0026\n",
      "Epoch 35/100\n",
      "1712/1712 [==============================] - 3s 2ms/step - loss: 0.0020 - val_loss: 0.0041\n",
      "Epoch 36/100\n",
      "1712/1712 [==============================] - 3s 2ms/step - loss: 0.0019 - val_loss: 0.0028\n",
      "Epoch 37/100\n",
      "1712/1712 [==============================] - 3s 2ms/step - loss: 0.0018 - val_loss: 0.0044\n",
      "Epoch 38/100\n",
      "1712/1712 [==============================] - 3s 2ms/step - loss: 0.0020 - val_loss: 0.0023\n",
      "Epoch 39/100\n",
      "1712/1712 [==============================] - 3s 2ms/step - loss: 0.0016 - val_loss: 0.0022\n",
      "Epoch 40/100\n",
      "1712/1712 [==============================] - 3s 2ms/step - loss: 0.0015 - val_loss: 0.0042\n",
      "Epoch 41/100\n",
      "1712/1712 [==============================] - 3s 2ms/step - loss: 0.0019 - val_loss: 0.0025\n",
      "Epoch 42/100\n",
      "1712/1712 [==============================] - 3s 2ms/step - loss: 0.0019 - val_loss: 0.0019\n",
      "Epoch 43/100\n",
      "1712/1712 [==============================] - 3s 2ms/step - loss: 0.0017 - val_loss: 0.0031\n",
      "Epoch 44/100\n",
      "1712/1712 [==============================] - 3s 2ms/step - loss: 0.0018 - val_loss: 0.0070\n",
      "Epoch 45/100\n",
      "1712/1712 [==============================] - 3s 2ms/step - loss: 0.0018 - val_loss: 0.0033\n",
      "Epoch 46/100\n",
      "1712/1712 [==============================] - 3s 2ms/step - loss: 0.0015 - val_loss: 0.0026\n",
      "Epoch 47/100\n",
      "1712/1712 [==============================] - 3s 2ms/step - loss: 0.0018 - val_loss: 0.0030\n",
      "Epoch 48/100\n",
      "1712/1712 [==============================] - 3s 2ms/step - loss: 0.0017 - val_loss: 0.0041\n",
      "Epoch 49/100\n",
      "1712/1712 [==============================] - 3s 2ms/step - loss: 0.0018 - val_loss: 0.0034\n",
      "Epoch 50/100\n",
      "1712/1712 [==============================] - 3s 2ms/step - loss: 0.0016 - val_loss: 0.0019\n",
      "Epoch 51/100\n",
      "1712/1712 [==============================] - 3s 2ms/step - loss: 0.0015 - val_loss: 0.0024\n",
      "Epoch 52/100\n",
      "1712/1712 [==============================] - 3s 2ms/step - loss: 0.0015 - val_loss: 0.0032\n",
      "Epoch 53/100\n",
      "1712/1712 [==============================] - 3s 2ms/step - loss: 0.0014 - val_loss: 0.0025\n",
      "Epoch 54/100\n",
      "1712/1712 [==============================] - 3s 2ms/step - loss: 0.0015 - val_loss: 0.0022\n",
      "Epoch 55/100\n",
      "1712/1712 [==============================] - 3s 2ms/step - loss: 0.0015 - val_loss: 0.0028\n",
      "Epoch 56/100\n",
      "1712/1712 [==============================] - 3s 2ms/step - loss: 0.0016 - val_loss: 0.0020\n",
      "Epoch 57/100\n",
      "1712/1712 [==============================] - 3s 2ms/step - loss: 0.0014 - val_loss: 0.0021\n",
      "Epoch 58/100\n",
      "1712/1712 [==============================] - 3s 2ms/step - loss: 0.0017 - val_loss: 0.0036\n",
      "Epoch 59/100\n",
      "1712/1712 [==============================] - 3s 2ms/step - loss: 0.0014 - val_loss: 0.0029\n",
      "Epoch 60/100\n",
      "1712/1712 [==============================] - 3s 2ms/step - loss: 0.0015 - val_loss: 0.0025\n",
      "Epoch 61/100\n",
      "1712/1712 [==============================] - 3s 2ms/step - loss: 0.0014 - val_loss: 0.0018\n",
      "Epoch 62/100\n",
      "1712/1712 [==============================] - 3s 2ms/step - loss: 0.0014 - val_loss: 0.0052\n",
      "Epoch 63/100\n",
      "1712/1712 [==============================] - 3s 2ms/step - loss: 0.0013 - val_loss: 0.0028\n",
      "Epoch 64/100\n",
      "1712/1712 [==============================] - 3s 2ms/step - loss: 0.0014 - val_loss: 0.0032\n",
      "Epoch 65/100\n",
      "1712/1712 [==============================] - 3s 2ms/step - loss: 0.0015 - val_loss: 0.0023\n",
      "Epoch 66/100\n",
      "1712/1712 [==============================] - 3s 2ms/step - loss: 0.0013 - val_loss: 0.0024\n",
      "Epoch 67/100\n",
      "1712/1712 [==============================] - 3s 2ms/step - loss: 0.0015 - val_loss: 0.0019\n",
      "Epoch 68/100\n",
      "1712/1712 [==============================] - 3s 2ms/step - loss: 0.0012 - val_loss: 0.0036\n",
      "Epoch 69/100\n",
      "1712/1712 [==============================] - 3s 2ms/step - loss: 0.0015 - val_loss: 0.0020\n",
      "Epoch 70/100\n",
      "1712/1712 [==============================] - 3s 2ms/step - loss: 0.0015 - val_loss: 0.0024\n",
      "Epoch 71/100\n",
      "1712/1712 [==============================] - 3s 2ms/step - loss: 0.0012 - val_loss: 0.0023\n",
      "Epoch 72/100\n",
      "1712/1712 [==============================] - 3s 2ms/step - loss: 0.0013 - val_loss: 0.0019\n",
      "Epoch 73/100\n",
      "1712/1712 [==============================] - 3s 2ms/step - loss: 0.0012 - val_loss: 0.0021\n",
      "Epoch 74/100\n",
      "1712/1712 [==============================] - 3s 2ms/step - loss: 0.0012 - val_loss: 0.0032\n",
      "Epoch 75/100\n",
      "1712/1712 [==============================] - 3s 2ms/step - loss: 0.0013 - val_loss: 0.0021\n",
      "Epoch 76/100\n",
      "1712/1712 [==============================] - 3s 2ms/step - loss: 0.0012 - val_loss: 0.0033\n",
      "Epoch 77/100\n",
      "1712/1712 [==============================] - 3s 2ms/step - loss: 0.0012 - val_loss: 0.0020\n",
      "Epoch 78/100\n",
      "1712/1712 [==============================] - 3s 2ms/step - loss: 0.0011 - val_loss: 0.0019\n",
      "Epoch 79/100\n"
     ]
    },
    {
     "name": "stdout",
     "output_type": "stream",
     "text": [
      "1712/1712 [==============================] - 3s 2ms/step - loss: 0.0012 - val_loss: 0.0017\n",
      "Epoch 80/100\n",
      "1712/1712 [==============================] - 3s 1ms/step - loss: 0.0012 - val_loss: 0.0042\n",
      "Epoch 81/100\n",
      "1712/1712 [==============================] - 3s 2ms/step - loss: 0.0011 - val_loss: 0.0020\n",
      "Epoch 82/100\n",
      "1712/1712 [==============================] - 3s 2ms/step - loss: 0.0012 - val_loss: 0.0029\n",
      "Epoch 83/100\n",
      "1712/1712 [==============================] - 3s 2ms/step - loss: 0.0012 - val_loss: 0.0019\n",
      "Epoch 84/100\n",
      "1712/1712 [==============================] - 3s 2ms/step - loss: 0.0011 - val_loss: 0.0026\n",
      "Epoch 85/100\n",
      "1712/1712 [==============================] - 3s 2ms/step - loss: 0.0011 - val_loss: 0.0018\n",
      "Epoch 86/100\n",
      "1712/1712 [==============================] - 3s 2ms/step - loss: 0.0012 - val_loss: 0.0020\n",
      "Epoch 87/100\n",
      "1712/1712 [==============================] - 3s 2ms/step - loss: 0.0012 - val_loss: 0.0019\n",
      "Epoch 88/100\n",
      "1712/1712 [==============================] - 3s 2ms/step - loss: 0.0011 - val_loss: 0.0026\n",
      "Epoch 89/100\n",
      "1712/1712 [==============================] - 3s 2ms/step - loss: 0.0012 - val_loss: 0.0025\n",
      "Epoch 90/100\n",
      "1712/1712 [==============================] - 3s 2ms/step - loss: 0.0012 - val_loss: 0.0023\n",
      "Epoch 91/100\n",
      "1712/1712 [==============================] - 3s 2ms/step - loss: 9.9467e-04 - val_loss: 0.0017\n",
      "Epoch 92/100\n",
      "1712/1712 [==============================] - 3s 1ms/step - loss: 0.0011 - val_loss: 0.0015\n",
      "Epoch 93/100\n",
      "1712/1712 [==============================] - 3s 2ms/step - loss: 0.0010 - val_loss: 0.0018\n",
      "Epoch 94/100\n",
      "1712/1712 [==============================] - 3s 2ms/step - loss: 9.7272e-04 - val_loss: 0.0017\n",
      "Epoch 95/100\n",
      "1712/1712 [==============================] - 3s 2ms/step - loss: 9.2027e-04 - val_loss: 0.0018\n",
      "Epoch 96/100\n",
      "1712/1712 [==============================] - 3s 2ms/step - loss: 9.6932e-04 - val_loss: 0.0023\n",
      "Epoch 97/100\n",
      "1712/1712 [==============================] - 3s 2ms/step - loss: 0.0012 - val_loss: 0.0018\n",
      "Epoch 98/100\n",
      "1712/1712 [==============================] - 3s 2ms/step - loss: 0.0011 - val_loss: 0.0017\n",
      "Epoch 99/100\n",
      "1712/1712 [==============================] - 3s 2ms/step - loss: 0.0010 - val_loss: 0.0021\n",
      "Epoch 100/100\n",
      "1712/1712 [==============================] - 3s 2ms/step - loss: 0.0011 - val_loss: 0.0021\n"
     ]
    }
   ],
   "source": [
    "model2_hist = fit_model(model2,data,epochs=1000,patience=100)\n"
   ]
  },
  {
   "cell_type": "code",
   "execution_count": 19,
   "metadata": {
    "scrolled": true
   },
   "outputs": [
    {
     "data": {
      "image/png": "[encoded data removed]",
      "text/plain": [
       "<Figure size 432x288 with 1 Axes>"
      ]
     },
     "metadata": {},
     "output_type": "display_data"
    }
   ],
   "source": [
    "plot_loss([model1BN_hist, model2_hist],['dense1_BN','CNN'])"
   ]
  },
  {
   "cell_type": "markdown",
   "metadata": {
    "collapsed": true
   },
   "source": [
    "### Use the custom generator to enhance the training data"
   ]
  },
  {
   "cell_type": "code",
   "execution_count": 38,
   "metadata": {},
   "outputs": [],
   "source": [
    "datagen = CustImageDataGenerator(\n",
    "    rotation_range=5. #degrees\n",
    "     ,horizontal_flip=True\n",
    "     ,width_shift_range=.05 # percent of image width\n",
    "     ,height_shift_range=.05 # percent of image height\n",
    "    ,zoom_range=(.95,1.05) # <1 means zoom in, >1 means zoom out\n",
    "    ).flow(X_train,y_train,whichlabels=list(labels), batch_size=batch)\n",
    "def fit_model_gen(model, generator=datagen, data=data, epochs=100, patience=10):\n",
    "    X_valid = data[1]\n",
    "    y_valid = data[3]\n",
    "    model.compile(loss='mse', optimizer=Nadam())\n",
    "    earlystop = EarlyStopping(monitor='loss',\n",
    "                             patience=patience,\n",
    "                             verbose=1,\n",
    "                             mode=\"auto\")\n",
    "    callbacks = [earlystop]\n",
    "    history = model.fit_generator(generator,\n",
    "                        epochs=epochs,\n",
    "                        steps_per_epoch=data[0].shape[0]//32,\n",
    "                        callbacks=callbacks,\n",
    "                        validation_data=(X_valid, y_valid)\n",
    "             )\n",
    "    return history"
   ]
  },
  {
   "cell_type": "code",
   "execution_count": 39,
   "metadata": {},
   "outputs": [
    {
     "name": "stdout",
     "output_type": "stream",
     "text": [
      "Epoch 1/1000\n",
      "53/53 [==============================] - 3s 65ms/step - loss: 0.0078 - val_loss: 0.0047\n",
      "Epoch 2/1000\n",
      "53/53 [==============================] - 2s 34ms/step - loss: 0.0077 - val_loss: 0.0038\n",
      "Epoch 3/1000\n",
      "53/53 [==============================] - 2s 33ms/step - loss: 0.0143 - val_loss: 0.0082\n",
      "Epoch 4/1000\n",
      "53/53 [==============================] - 2s 34ms/step - loss: 0.0076 - val_loss: 0.0045\n",
      "Epoch 5/1000\n",
      "53/53 [==============================] - 2s 34ms/step - loss: 0.0072 - val_loss: 0.0025\n",
      "Epoch 6/1000\n",
      "53/53 [==============================] - 2s 34ms/step - loss: 0.0066 - val_loss: 0.0033\n",
      "Epoch 7/1000\n",
      "53/53 [==============================] - 2s 34ms/step - loss: 0.0060 - val_loss: 0.0036\n",
      "Epoch 8/1000\n",
      "53/53 [==============================] - 2s 34ms/step - loss: 0.0072 - val_loss: 0.0023\n",
      "Epoch 9/1000\n",
      "53/53 [==============================] - 2s 34ms/step - loss: 0.0058 - val_loss: 0.0046\n",
      "Epoch 10/1000\n",
      "53/53 [==============================] - 2s 35ms/step - loss: 0.0063 - val_loss: 0.0027\n",
      "Epoch 11/1000\n",
      "53/53 [==============================] - 2s 34ms/step - loss: 0.0058 - val_loss: 0.0026\n",
      "Epoch 12/1000\n",
      "53/53 [==============================] - 2s 34ms/step - loss: 0.0062 - val_loss: 0.0025\n",
      "Epoch 13/1000\n",
      "53/53 [==============================] - 2s 34ms/step - loss: 0.0063 - val_loss: 0.0024\n",
      "Epoch 14/1000\n",
      "53/53 [==============================] - 2s 34ms/step - loss: 0.0063 - val_loss: 0.0034\n",
      "Epoch 15/1000\n",
      "53/53 [==============================] - 2s 34ms/step - loss: 0.0055 - val_loss: 0.0044\n",
      "Epoch 16/1000\n",
      "53/53 [==============================] - 2s 35ms/step - loss: 0.0059 - val_loss: 0.0020\n",
      "Epoch 17/1000\n",
      "53/53 [==============================] - 2s 34ms/step - loss: 0.0057 - val_loss: 0.0022\n",
      "Epoch 18/1000\n",
      "53/53 [==============================] - 2s 33ms/step - loss: 0.0060 - val_loss: 0.0039\n",
      "Epoch 19/1000\n",
      "53/53 [==============================] - 2s 34ms/step - loss: 0.0058 - val_loss: 0.0041\n",
      "Epoch 20/1000\n",
      "53/53 [==============================] - 2s 34ms/step - loss: 0.0057 - val_loss: 0.0034\n",
      "Epoch 21/1000\n",
      "53/53 [==============================] - 2s 33ms/step - loss: 0.0071 - val_loss: 0.0021\n",
      "Epoch 22/1000\n",
      "53/53 [==============================] - 2s 34ms/step - loss: 0.0055 - val_loss: 0.0035\n",
      "Epoch 23/1000\n",
      "53/53 [==============================] - 2s 34ms/step - loss: 0.0054 - val_loss: 0.0034\n",
      "Epoch 24/1000\n",
      "53/53 [==============================] - 2s 34ms/step - loss: 0.0051 - val_loss: 0.0025\n",
      "Epoch 25/1000\n",
      "53/53 [==============================] - 2s 34ms/step - loss: 0.0062 - val_loss: 0.0055\n",
      "Epoch 26/1000\n",
      "53/53 [==============================] - 2s 34ms/step - loss: 0.0055 - val_loss: 0.0033\n",
      "Epoch 27/1000\n",
      "53/53 [==============================] - 2s 34ms/step - loss: 0.0065 - val_loss: 0.0064\n",
      "Epoch 28/1000\n",
      "53/53 [==============================] - 2s 35ms/step - loss: 0.0058 - val_loss: 0.0017\n",
      "Epoch 29/1000\n",
      "53/53 [==============================] - 2s 34ms/step - loss: 0.0052 - val_loss: 0.0034\n",
      "Epoch 30/1000\n",
      "53/53 [==============================] - 2s 34ms/step - loss: 0.0055 - val_loss: 0.0031\n",
      "Epoch 31/1000\n",
      "53/53 [==============================] - 2s 34ms/step - loss: 0.0051 - val_loss: 0.0020\n",
      "Epoch 32/1000\n",
      "53/53 [==============================] - 2s 34ms/step - loss: 0.0055 - val_loss: 0.0032\n",
      "Epoch 33/1000\n",
      "53/53 [==============================] - 2s 33ms/step - loss: 0.0057 - val_loss: 0.0022\n",
      "Epoch 34/1000\n",
      "53/53 [==============================] - 2s 34ms/step - loss: 0.0057 - val_loss: 0.0020\n",
      "Epoch 35/1000\n",
      "53/53 [==============================] - 2s 34ms/step - loss: 0.0049 - val_loss: 0.0017\n",
      "Epoch 36/1000\n",
      "53/53 [==============================] - 2s 37ms/step - loss: 0.0046 - val_loss: 0.0025\n",
      "Epoch 37/1000\n",
      "53/53 [==============================] - 2s 34ms/step - loss: 0.0052 - val_loss: 0.0021\n",
      "Epoch 38/1000\n",
      "53/53 [==============================] - 2s 33ms/step - loss: 0.0050 - val_loss: 0.0027\n",
      "Epoch 39/1000\n",
      "53/53 [==============================] - 2s 34ms/step - loss: 0.0051 - val_loss: 0.0035\n",
      "Epoch 40/1000\n",
      "53/53 [==============================] - 2s 34ms/step - loss: 0.0047 - val_loss: 0.0032\n",
      "Epoch 41/1000\n",
      "53/53 [==============================] - 2s 34ms/step - loss: 0.0046 - val_loss: 0.0019\n",
      "Epoch 42/1000\n",
      "53/53 [==============================] - 2s 33ms/step - loss: 0.0050 - val_loss: 0.0017\n",
      "Epoch 43/1000\n",
      "53/53 [==============================] - 2s 33ms/step - loss: 0.0049 - val_loss: 0.0019\n",
      "Epoch 44/1000\n",
      "53/53 [==============================] - 2s 33ms/step - loss: 0.0051 - val_loss: 0.0021\n",
      "Epoch 45/1000\n",
      "53/53 [==============================] - 2s 33ms/step - loss: 0.0094 - val_loss: 0.0058\n",
      "Epoch 46/1000\n",
      "53/53 [==============================] - 2s 34ms/step - loss: 0.0074 - val_loss: 0.0051\n",
      "Epoch 47/1000\n",
      "53/53 [==============================] - 2s 34ms/step - loss: 0.0058 - val_loss: 0.0036\n",
      "Epoch 48/1000\n",
      "53/53 [==============================] - 2s 33ms/step - loss: 0.0065 - val_loss: 0.0025\n",
      "Epoch 49/1000\n",
      "53/53 [==============================] - 2s 34ms/step - loss: 0.0054 - val_loss: 0.0023\n",
      "Epoch 50/1000\n",
      "53/53 [==============================] - 2s 33ms/step - loss: 0.0054 - val_loss: 0.0022\n",
      "Epoch 51/1000\n",
      "53/53 [==============================] - 2s 33ms/step - loss: 0.0057 - val_loss: 0.0027\n",
      "Epoch 00051: early stopping\n"
     ]
    }
   ],
   "source": [
    "model2_augmented_hist = fit_model_gen(model2,datagen, data,epochs=1000,patience=100)"
   ]
  },
  {
   "cell_type": "code",
   "execution_count": 40,
   "metadata": {},
   "outputs": [
    {
     "data": {
      "image/png": "[encoded data removed]",
      "text/plain": [
       "<Figure size 432x288 with 1 Axes>"
      ]
     },
     "metadata": {},
     "output_type": "display_data"
    }
   ],
   "source": [
    "plot_loss([model2_hist, model2_augmented_hist],['CNN','CNN_augmented'])"
   ]
  },
  {
   "cell_type": "markdown",
   "metadata": {
    "collapsed": true
   },
   "source": [
    "## Create Predictions\n",
    "### Load the Testing Time Images"
   ]
  },
  {
   "cell_type": "code",
   "execution_count": 51,
   "metadata": {},
   "outputs": [],
   "source": [
    "out_images, _ , _ = loader(test=True, seed=None, keeplabels=None)\n"
   ]
  },
  {
   "cell_type": "markdown",
   "metadata": {},
   "source": [
    "### Create the Preditions"
   ]
  },
  {
   "cell_type": "code",
   "execution_count": 53,
   "metadata": {
    "scrolled": true
   },
   "outputs": [
    {
     "name": "stdout",
     "output_type": "stream",
     "text": [
      "(1783, 96, 96, 1)\n"
     ]
    }
   ],
   "source": [
    "final_model = \n"
   ]
  },
  {
   "cell_type": "code",
   "execution_count": null,
   "metadata": {
    "collapsed": true
   },
   "outputs": [],
   "source": []
  },
  {
   "cell_type": "code",
   "execution_count": null,
   "metadata": {
    "collapsed": true
   },
   "outputs": [],
   "source": []
  },
  {
   "cell_type": "code",
   "execution_count": null,
   "metadata": {
    "collapsed": true
   },
   "outputs": [],
   "source": [
    "keras.layers.MaxPooling2D(pool_size=(2, 2), strides=None, padding='valid', data_format=None)\n",
    "\n",
    "keras.layers.Conv2D(filters, kernel_size, strides=(1, 1), padding='valid',\n",
    "                    data_format=None, dilation_rate=(1, 1), activation=None,\n",
    "                    use_bias=True, kernel_initializer='glorot_uniform',\n",
    "                    bias_initializer='zeros', kernel_regularizer=None,\n",
    "                    bias_regularizer=None, activity_regularizer=None,\n",
    "                    kernel_constraint=None, bias_constraint=None)\n",
    "\n",
    "keras.layers.Dense(units, activation=None, use_bias=True, \n",
    "                   kernel_initializer='glorot_uniform', \n",
    "                   bias_initializer='zeros', kernel_regularizer=None, \n",
    "                   bias_regularizer=None, activity_regularizer=None, \n",
    "                   kernel_constraint=None, bias_constraint=None)\n",
    "\n",
    "keras.layers.Dropout(rate, noise_shape=None, seed=None)\n"
   ]
  },
  {
   "cell_type": "code",
   "execution_count": 21,
   "metadata": {
    "collapsed": true
   },
   "outputs": [],
   "source": []
  }
 ],
 "metadata": {
  "kernelspec": {
   "display_name": "Python 3",
   "language": "python",
   "name": "python3"
  },
  "language_info": {
   "codemirror_mode": {
    "name": "ipython",
    "version": 3
   },
   "file_extension": ".py",
   "mimetype": "text/x-python",
   "name": "python",
   "nbconvert_exporter": "python",
   "pygments_lexer": "ipython3",
   "version": "3.6.4"
  }
 },
 "nbformat": 4,
 "nbformat_minor": 2
}
