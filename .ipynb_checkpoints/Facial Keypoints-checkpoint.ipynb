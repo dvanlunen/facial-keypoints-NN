{
 "cells": [
  {
   "cell_type": "markdown",
   "metadata": {},
   "source": [
    "## Key Takeaways\n",
    "\n",
    "### For NNs using Images\n",
    "- Convolutions are helpful\n",
    "- SGD isn't as good as newer optimizers like Adam and NesterovAdam - https://towardsdatascience.com/types-of-optimization-algorithms-used-in-neural-networks-and-ways-to-optimize-gradient-95ae5d39529f\n",
    "- normalization is helpful (both of the features and the output) and helps prevent divergence\n",
    "- batch normalization works well after the activation https://github.com/ducha-aiki/caffenet-benchmark/blob/master/batchnorm.md\n",
    "\n",
    "\n",
    "### Generally\n",
    "- Never trust the data blindly"
   ]
  },
  {
   "cell_type": "markdown",
   "metadata": {},
   "source": [
    "### Imports"
   ]
  },
  {
   "cell_type": "code",
   "execution_count": 22,
   "metadata": {},
   "outputs": [],
   "source": [
    "%matplotlib inline\n",
    "from pandas.io.parsers import read_csv\n",
    "import os\n",
    "import numpy as np\n",
    "\n",
    "from keras.models import Sequential\n",
    "from keras.layers import Dense, Conv2D, MaxPooling2D, Flatten, Dropout, BatchNormalization\n",
    "from keras.optimizers import Nadam\n",
    "from keras.callbacks import EarlyStopping, Callback, History\n",
    "from sklearn.model_selection import train_test_split\n",
    "import matplotlib.pyplot as plt\n",
    "from augmentdata.CustImageDataGenerator import CustImageDataGenerator"
   ]
  },
  {
   "cell_type": "markdown",
   "metadata": {},
   "source": [
    "### Constants"
   ]
  },
  {
   "cell_type": "code",
   "execution_count": 25,
   "metadata": {},
   "outputs": [],
   "source": [
    "TRAIN_DATA = '../data/training.csv'\n",
    "TEST_DATA = '../data/test.csv'\n",
    "IMAGE_ROWS = 96\n",
    "IMAGE_COLS = 96\n",
    "INPUT_SHAPE = (IMAGE_ROWS, IMAGE_COLS, 1)"
   ]
  },
  {
   "cell_type": "markdown",
   "metadata": {},
   "source": [
    "### Load the Data"
   ]
  },
  {
   "cell_type": "code",
   "execution_count": 29,
   "metadata": {},
   "outputs": [],
   "source": [
    "def loader(test=False, seed=None, keeplabels=None):\n",
    "    if seed:\n",
    "        np.random.seed(seed)\n",
    "    fileloc = TEST_DATA if test else TRAIN_DATA\n",
    "    \n",
    "    df = read_csv(fileloc)\n",
    "    \n",
    "    df['Image'] = df['Image'].apply(lambda x: np.fromstring(x, sep=' '))\n",
    "    \n",
    "    if keeplabels:\n",
    "        df = df[list(keeplabels) + ['Image']]\n",
    "        \n",
    "    df = df.dropna() # drop rows with missing labels\n",
    "    \n",
    "    X = np.vstack(df['Image'])\n",
    "    # by pixel across the whole dataset subtract mean and divide by stdev\n",
    "    X = X - np.tile(np.mean(X,axis=0),(X.shape[0],1))\n",
    "    X = X / np.tile(np.std(X,axis=0),(X.shape[0],1))\n",
    "    X = X.astype(np.float32)\n",
    "    \n",
    "    if not test:\n",
    "        y = df[df.columns.difference(['Image'])].values\n",
    "        y = y.astype(np.float32)\n",
    "        y = (y - 48) / 48 # this helps, but tanh on output doesnt\n",
    "        shuffle = np.random.permutation(np.arange(X.shape[0]))\n",
    "        X, y = X[shuffle], y[shuffle]\n",
    "    else:\n",
    "        y = None\n",
    "    \n",
    "    X = X.reshape(-1, 96, 96, 1)\n",
    "\n",
    "    return X, y, df.columns.difference(['Image'])\n"
   ]
  },
  {
   "cell_type": "code",
   "execution_count": 30,
   "metadata": {},
   "outputs": [],
   "source": [
    "X, y, labels = loader(seed=42)\n",
    "X_train, X_test, y_train, y_test = train_test_split(X, y,\n",
    "                                                        test_size=0.2,\n",
    "                                                        random_state=42)\n",
    "data=[X_train, X_test, y_train, y_test]"
   ]
  },
  {
   "cell_type": "markdown",
   "metadata": {},
   "source": [
    "### Plot an Example Image"
   ]
  },
  {
   "cell_type": "code",
   "execution_count": 34,
   "metadata": {},
   "outputs": [
    {
     "data": {
      "image/png": "[encoded data removed]",
      "text/plain": [
       "<Figure size 288x288 with 1 Axes>"
      ]
     },
     "metadata": {},
     "output_type": "display_data"
    }
   ],
   "source": [
    "def plot_image(image, points, labels=list(labels)):\n",
    "    \"\"\"Helper function to plot images\"\"\"\n",
    "    plt.figure(figsize=(4,4))\n",
    "    plt.imshow(np.reshape(image,(96,96)), cmap = 'gray')\n",
    "    x = 0\n",
    "    for i, label in enumerate(labels):\n",
    "        if label[-1]=='x':\n",
    "            x = points[i]\n",
    "        else:\n",
    "            if label in ['left_eye_center_y',\n",
    "                         'left_eye_inner_corner_y', \n",
    "                         'left_eye_outer_corner_y', \n",
    "                         'left_eyebrow_inner_end_y', \n",
    "                         'left_eyebrow_outer_end_y',\n",
    "                         'mouth_left_corner_y'\n",
    "                        ]:\n",
    "                plt.plot(x, points[i], 'b<')\n",
    "            elif label in ['right_eye_center_y',\n",
    "                         'right_eye_inner_corner_y', \n",
    "                         'right_eye_outer_corner_y', \n",
    "                         'right_eyebrow_inner_end_y', \n",
    "                         'right_eyebrow_outer_end_y',\n",
    "                          'mouth_right_corner_y']:\n",
    "                plt.plot(x, points[i], 'r>')\n",
    "            else:\n",
    "                plt.plot(x, points[i],'g.')\n",
    "    plt.axis('off')\n",
    "\n",
    "\n",
    "\n",
    "plot_image(X_train[0], 48*y_train[0]+48, labels)\n"
   ]
  },
  {
   "cell_type": "markdown",
   "metadata": {},
   "source": [
    "### Model Fitting Function"
   ]
  },
  {
   "cell_type": "code",
   "execution_count": 141,
   "metadata": {
    "collapsed": true
   },
   "outputs": [],
   "source": [
    "def fit_model(model, data, epochs=100, patience=100):\n",
    "    X_train = data[0]\n",
    "    X_test = data[1]\n",
    "    y_train = data[2]\n",
    "    y_test = data[3]\n",
    "    model.compile(loss='mse', optimizer=Nadam())\n",
    "    earlystop = EarlyStopping(monitor='loss',\n",
    "                             patience=patience,\n",
    "                             verbose=1,\n",
    "                             mode=\"auto\")\n",
    "    callbacks = [earlystop]\n",
    "    history = model.fit(X_train, y_train,\n",
    "                        epochs=epochs,\n",
    "                        batch_size=32,\n",
    "                        callbacks=callbacks,\n",
    "                        validation_data=(X_test, y_test)\n",
    "             )\n",
    "    return history"
   ]
  },
  {
   "cell_type": "markdown",
   "metadata": {},
   "source": [
    "### Helper function to plot the loss"
   ]
  },
  {
   "cell_type": "code",
   "execution_count": 96,
   "metadata": {
    "collapsed": true
   },
   "outputs": [],
   "source": [
    "def plot_loss(hists, names):\n",
    "    colordict = {\n",
    "        0 : 'b',\n",
    "        1 : 'g',\n",
    "        2 : 'r'\n",
    "    }\n",
    "    \n",
    "    for i, hist in enumerate(hists):\n",
    "        plt.plot([np.sqrt(x) * 48 for x in hist.history['loss']],\n",
    "                 color=colordict[i],\n",
    "                 label=\"train \" + names[i])\n",
    "        plt.plot([np.sqrt(x) * 48 for x in hist.history['val_loss']],\n",
    "                 color=colordict[i],\n",
    "                 linestyle='dashed',\n",
    "                 label=\"valid \" + names[i])\n",
    "        plt.grid()\n",
    "        plt.legend()\n",
    "        plt.xlabel(\"epoch\")\n",
    "        plt.ylabel(\"loss\")\n",
    "        plt.yscale(\"log\")\n",
    "    plt.show()"
   ]
  },
  {
   "cell_type": "markdown",
   "metadata": {
    "collapsed": true
   },
   "source": [
    "### 1 Dense Hidden Layer with 100 units"
   ]
  },
  {
   "cell_type": "code",
   "execution_count": 111,
   "metadata": {},
   "outputs": [
    {
     "name": "stdout",
     "output_type": "stream",
     "text": [
      "_________________________________________________________________\n",
      "Layer (type)                 Output Shape              Param #   \n",
      "=================================================================\n",
      "flatten_28 (Flatten)         (None, 9216)              0         \n",
      "_________________________________________________________________\n",
      "dense_58 (Dense)             (None, 100)               921700    \n",
      "_________________________________________________________________\n",
      "dense_59 (Dense)             (None, 30)                3030      \n",
      "=================================================================\n",
      "Total params: 924,730\n",
      "Trainable params: 924,730\n",
      "Non-trainable params: 0\n",
      "_________________________________________________________________\n",
      "None\n"
     ]
    }
   ],
   "source": [
    "model1 = Sequential()\n",
    "model1.add(Flatten(input_shape=INPUT_SHAPE))\n",
    "model1.add(Dense(100, activation='relu'))\n",
    "model1.add(Dense(30))\n",
    "print(model1.summary())"
   ]
  },
  {
   "cell_type": "code",
   "execution_count": 103,
   "metadata": {
    "scrolled": true
   },
   "outputs": [
    {
     "name": "stdout",
     "output_type": "stream",
     "text": [
      "Train on 1712 samples, validate on 428 samples\n",
      "Epoch 1/100\n",
      "1712/1712 [==============================] - 1s 876us/step - loss: 4.1852 - val_loss: 0.1422\n",
      "Epoch 2/100\n",
      "1712/1712 [==============================] - 1s 417us/step - loss: 0.1324 - val_loss: 0.1210\n",
      "Epoch 3/100\n",
      "1712/1712 [==============================] - 1s 440us/step - loss: 0.1105 - val_loss: 0.0992\n",
      "Epoch 4/100\n",
      "1712/1712 [==============================] - 1s 379us/step - loss: 0.0895 - val_loss: 0.0793\n",
      "Epoch 5/100\n",
      "1712/1712 [==============================] - 1s 429us/step - loss: 0.0709 - val_loss: 0.0622\n",
      "Epoch 6/100\n",
      "1712/1712 [==============================] - 1s 466us/step - loss: 0.0553 - val_loss: 0.0481\n",
      "Epoch 7/100\n",
      "1712/1712 [==============================] - 1s 401us/step - loss: 0.0426 - val_loss: 0.0368\n",
      "Epoch 8/100\n",
      "1712/1712 [==============================] - 1s 398us/step - loss: 0.0326 - val_loss: 0.0280\n",
      "Epoch 9/100\n",
      "1712/1712 [==============================] - 1s 468us/step - loss: 0.0248 - val_loss: 0.0213\n",
      "Epoch 10/100\n",
      "1712/1712 [==============================] - 1s 400us/step - loss: 0.0190 - val_loss: 0.0163\n",
      "Epoch 11/100\n",
      "1712/1712 [==============================] - 1s 475us/step - loss: 0.0147 - val_loss: 0.0126\n",
      "Epoch 12/100\n",
      "1712/1712 [==============================] - 1s 420us/step - loss: 0.0115 - val_loss: 0.0100\n",
      "Epoch 13/100\n",
      "1712/1712 [==============================] - 1s 445us/step - loss: 0.0093 - val_loss: 0.0081\n",
      "Epoch 14/100\n",
      "1712/1712 [==============================] - 1s 440us/step - loss: 0.0077 - val_loss: 0.0068\n",
      "Epoch 15/100\n",
      "1712/1712 [==============================] - 1s 430us/step - loss: 0.0066 - val_loss: 0.0059\n",
      "Epoch 16/100\n",
      "1712/1712 [==============================] - 1s 407us/step - loss: 0.0058 - val_loss: 0.0053\n",
      "Epoch 17/100\n",
      "1712/1712 [==============================] - 1s 399us/step - loss: 0.0053 - val_loss: 0.0049\n",
      "Epoch 18/100\n",
      "1712/1712 [==============================] - 1s 420us/step - loss: 0.0050 - val_loss: 0.0047\n",
      "Epoch 19/100\n",
      "1712/1712 [==============================] - 1s 477us/step - loss: 0.0048 - val_loss: 0.0045\n",
      "Epoch 20/100\n",
      "1712/1712 [==============================] - 1s 457us/step - loss: 0.0047 - val_loss: 0.0044\n",
      "Epoch 21/100\n",
      "1712/1712 [==============================] - 1s 429us/step - loss: 0.0046 - val_loss: 0.0044\n",
      "Epoch 22/100\n",
      "1712/1712 [==============================] - 1s 399us/step - loss: 0.0045 - val_loss: 0.0043\n",
      "Epoch 23/100\n",
      "1712/1712 [==============================] - 1s 379us/step - loss: 0.0045 - val_loss: 0.0043\n",
      "Epoch 24/100\n",
      "1712/1712 [==============================] - 1s 486us/step - loss: 0.0045 - val_loss: 0.0043\n",
      "Epoch 25/100\n",
      "1712/1712 [==============================] - 1s 419us/step - loss: 0.0045 - val_loss: 0.0043\n",
      "Epoch 26/100\n",
      "1712/1712 [==============================] - 1s 417us/step - loss: 0.0044 - val_loss: 0.0043\n",
      "Epoch 27/100\n",
      "1712/1712 [==============================] - 1s 431us/step - loss: 0.0044 - val_loss: 0.0043\n",
      "Epoch 28/100\n",
      "1712/1712 [==============================] - 1s 433us/step - loss: 0.0044 - val_loss: 0.0043\n",
      "Epoch 29/100\n",
      "1712/1712 [==============================] - 1s 433us/step - loss: 0.0044 - val_loss: 0.0043\n",
      "Epoch 30/100\n",
      "1712/1712 [==============================] - 1s 361us/step - loss: 0.0044 - val_loss: 0.0043\n",
      "Epoch 31/100\n",
      "1712/1712 [==============================] - 1s 458us/step - loss: 0.0044 - val_loss: 0.0043\n",
      "Epoch 32/100\n",
      "1712/1712 [==============================] - 1s 448us/step - loss: 0.0044 - val_loss: 0.0043\n",
      "Epoch 00032: early stopping\n"
     ]
    }
   ],
   "source": [
    "model1_hist = fit_model(model1,data,epochs=100,patience=10)"
   ]
  },
  {
   "cell_type": "code",
   "execution_count": 107,
   "metadata": {
    "scrolled": true
   },
   "outputs": [
    {
     "name": "stdout",
     "output_type": "stream",
     "text": [
      "_________________________________________________________________\n",
      "Layer (type)                 Output Shape              Param #   \n",
      "=================================================================\n",
      "flatten_24 (Flatten)         (None, 9216)              0         \n",
      "_________________________________________________________________\n",
      "dense_47 (Dense)             (None, 100)               921700    \n",
      "_________________________________________________________________\n",
      "dense_48 (Dense)             (None, 30)                3030      \n",
      "=================================================================\n",
      "Total params: 924,730\n",
      "Trainable params: 924,730\n",
      "Non-trainable params: 0\n",
      "_________________________________________________________________\n",
      "None\n"
     ]
    },
    {
     "data": {
      "image/png": "[encoded data removed]",
      "text/plain": [
       "<matplotlib.figure.Figure at 0x29f4b066b70>"
      ]
     },
     "metadata": {},
     "output_type": "display_data"
    }
   ],
   "source": [
    "plot_loss([model1_hist],['dense1'])"
   ]
  },
  {
   "cell_type": "code",
   "execution_count": 139,
   "metadata": {},
   "outputs": [
    {
     "name": "stdout",
     "output_type": "stream",
     "text": [
      "_________________________________________________________________\n",
      "Layer (type)                 Output Shape              Param #   \n",
      "=================================================================\n",
      "flatten_32 (Flatten)         (None, 9216)              0         \n",
      "_________________________________________________________________\n",
      "dense_67 (Dense)             (None, 100)               921700    \n",
      "_________________________________________________________________\n",
      "batch_normalization_1 (Batch (None, 100)               400       \n",
      "_________________________________________________________________\n",
      "dense_68 (Dense)             (None, 30)                3030      \n",
      "=================================================================\n",
      "Total params: 925,130\n",
      "Trainable params: 924,930\n",
      "Non-trainable params: 200\n",
      "_________________________________________________________________\n",
      "None\n"
     ]
    }
   ],
   "source": [
    "model1BN = Sequential()\n",
    "model1BN.add(Flatten(input_shape=INPUT_SHAPE))\n",
    "model1BN.add(Dense(100, activation='relu'))\n",
    "model1BN.add(BatchNormalization())\n",
    "model1BN.add(Dense(30))\n",
    "print(model1BN.summary())\n"
   ]
  },
  {
   "cell_type": "code",
   "execution_count": 142,
   "metadata": {},
   "outputs": [
    {
     "name": "stdout",
     "output_type": "stream",
     "text": [
      "Train on 1712 samples, validate on 428 samples\n",
      "Epoch 1/100\n",
      "1712/1712 [==============================] - 2s 1ms/step - loss: 0.3026 - val_loss: 0.0573\n",
      "Epoch 2/100\n",
      "1712/1712 [==============================] - 1s 432us/step - loss: 0.0170 - val_loss: 0.0144\n",
      "Epoch 3/100\n",
      "1712/1712 [==============================] - 1s 539us/step - loss: 0.0064 - val_loss: 0.0076\n",
      "Epoch 4/100\n",
      "1712/1712 [==============================] - 1s 466us/step - loss: 0.0046 - val_loss: 0.0052\n",
      "Epoch 5/100\n",
      "1712/1712 [==============================] - 1s 489us/step - loss: 0.0039 - val_loss: 0.0045\n",
      "Epoch 6/100\n",
      "1712/1712 [==============================] - 1s 444us/step - loss: 0.0034 - val_loss: 0.0059\n",
      "Epoch 7/100\n",
      "1712/1712 [==============================] - 1s 556us/step - loss: 0.0033 - val_loss: 0.0048\n",
      "Epoch 8/100\n",
      "1712/1712 [==============================] - 1s 543us/step - loss: 0.0032 - val_loss: 0.0051\n",
      "Epoch 9/100\n",
      "1712/1712 [==============================] - 1s 459us/step - loss: 0.0033 - val_loss: 0.0035\n",
      "Epoch 10/100\n",
      "1712/1712 [==============================] - 1s 477us/step - loss: 0.0029 - val_loss: 0.0037\n",
      "Epoch 11/100\n",
      "1712/1712 [==============================] - 1s 487us/step - loss: 0.0030 - val_loss: 0.0048\n",
      "Epoch 12/100\n",
      "1712/1712 [==============================] - 1s 514us/step - loss: 0.0029 - val_loss: 0.0047\n",
      "Epoch 13/100\n",
      "1712/1712 [==============================] - 1s 566us/step - loss: 0.0029 - val_loss: 0.0043\n",
      "Epoch 14/100\n",
      "1712/1712 [==============================] - 1s 515us/step - loss: 0.0026 - val_loss: 0.0036\n",
      "Epoch 15/100\n",
      "1712/1712 [==============================] - 1s 458us/step - loss: 0.0030 - val_loss: 0.0044\n",
      "Epoch 16/100\n",
      "1712/1712 [==============================] - 1s 531us/step - loss: 0.0028 - val_loss: 0.0038\n",
      "Epoch 17/100\n",
      "1712/1712 [==============================] - 1s 499us/step - loss: 0.0025 - val_loss: 0.0029\n",
      "Epoch 18/100\n",
      "1712/1712 [==============================] - 1s 496us/step - loss: 0.0029 - val_loss: 0.0056\n",
      "Epoch 19/100\n",
      "1712/1712 [==============================] - 1s 524us/step - loss: 0.0029 - val_loss: 0.0054\n",
      "Epoch 20/100\n",
      "1712/1712 [==============================] - 1s 469us/step - loss: 0.0029 - val_loss: 0.0034\n",
      "Epoch 21/100\n",
      "1712/1712 [==============================] - 1s 585us/step - loss: 0.0027 - val_loss: 0.0040\n",
      "Epoch 22/100\n",
      "1712/1712 [==============================] - 1s 569us/step - loss: 0.0026 - val_loss: 0.0038\n",
      "Epoch 23/100\n",
      "1712/1712 [==============================] - 1s 496us/step - loss: 0.0025 - val_loss: 0.0057\n",
      "Epoch 24/100\n",
      "1712/1712 [==============================] - 1s 422us/step - loss: 0.0030 - val_loss: 0.0048\n",
      "Epoch 25/100\n",
      "1712/1712 [==============================] - 1s 480us/step - loss: 0.0024 - val_loss: 0.0076\n",
      "Epoch 26/100\n",
      "1712/1712 [==============================] - 1s 508us/step - loss: 0.0026 - val_loss: 0.0057\n",
      "Epoch 27/100\n",
      "1712/1712 [==============================] - 1s 471us/step - loss: 0.0026 - val_loss: 0.0036\n",
      "Epoch 28/100\n",
      "1712/1712 [==============================] - 1s 554us/step - loss: 0.0025 - val_loss: 0.0049\n",
      "Epoch 29/100\n",
      "1712/1712 [==============================] - 1s 477us/step - loss: 0.0023 - val_loss: 0.0043\n",
      "Epoch 30/100\n",
      "1712/1712 [==============================] - 1s 440us/step - loss: 0.0024 - val_loss: 0.0047\n",
      "Epoch 31/100\n",
      "1712/1712 [==============================] - 1s 436us/step - loss: 0.0023 - val_loss: 0.0043\n",
      "Epoch 32/100\n",
      "1712/1712 [==============================] - 1s 455us/step - loss: 0.0030 - val_loss: 0.0040\n",
      "Epoch 33/100\n",
      "1712/1712 [==============================] - 1s 515us/step - loss: 0.0025 - val_loss: 0.0046\n",
      "Epoch 34/100\n",
      "1712/1712 [==============================] - 1s 518us/step - loss: 0.0026 - val_loss: 0.0047\n",
      "Epoch 35/100\n",
      "1712/1712 [==============================] - 1s 535us/step - loss: 0.0023 - val_loss: 0.0050\n",
      "Epoch 36/100\n",
      "1712/1712 [==============================] - 1s 449us/step - loss: 0.0025 - val_loss: 0.0071\n",
      "Epoch 37/100\n",
      "1712/1712 [==============================] - 1s 486us/step - loss: 0.0027 - val_loss: 0.0051\n",
      "Epoch 38/100\n",
      "1712/1712 [==============================] - 1s 507us/step - loss: 0.0033 - val_loss: 0.0069\n",
      "Epoch 39/100\n",
      "1712/1712 [==============================] - 1s 467us/step - loss: 0.0022 - val_loss: 0.0058\n",
      "Epoch 40/100\n",
      "1712/1712 [==============================] - 1s 467us/step - loss: 0.0025 - val_loss: 0.0066\n",
      "Epoch 41/100\n",
      "1712/1712 [==============================] - 1s 497us/step - loss: 0.0023 - val_loss: 0.0039\n",
      "Epoch 42/100\n",
      "1712/1712 [==============================] - 1s 515us/step - loss: 0.0020 - val_loss: 0.0038\n",
      "Epoch 43/100\n",
      "1712/1712 [==============================] - 1s 477us/step - loss: 0.0023 - val_loss: 0.0087\n",
      "Epoch 44/100\n",
      "1712/1712 [==============================] - 1s 514us/step - loss: 0.0025 - val_loss: 0.0035\n",
      "Epoch 45/100\n",
      "1712/1712 [==============================] - 1s 509us/step - loss: 0.0018 - val_loss: 0.0034\n",
      "Epoch 46/100\n",
      "1712/1712 [==============================] - 1s 457us/step - loss: 0.0022 - val_loss: 0.0035\n",
      "Epoch 47/100\n",
      "1712/1712 [==============================] - 1s 535us/step - loss: 0.0019 - val_loss: 0.0035\n",
      "Epoch 48/100\n",
      "1712/1712 [==============================] - 1s 516us/step - loss: 0.0021 - val_loss: 0.0055\n",
      "Epoch 49/100\n",
      "1712/1712 [==============================] - 1s 447us/step - loss: 0.0025 - val_loss: 0.0036\n",
      "Epoch 50/100\n",
      "1712/1712 [==============================] - 1s 488us/step - loss: 0.0020 - val_loss: 0.0050\n",
      "Epoch 51/100\n",
      "1712/1712 [==============================] - 1s 467us/step - loss: 0.0023 - val_loss: 0.0033\n",
      "Epoch 52/100\n",
      "1712/1712 [==============================] - 1s 485us/step - loss: 0.0023 - val_loss: 0.0036\n",
      "Epoch 53/100\n",
      "1712/1712 [==============================] - 1s 468us/step - loss: 0.0020 - val_loss: 0.0042\n",
      "Epoch 54/100\n",
      "1712/1712 [==============================] - 1s 436us/step - loss: 0.0019 - val_loss: 0.0044\n",
      "Epoch 55/100\n",
      "1712/1712 [==============================] - 1s 489us/step - loss: 0.0022 - val_loss: 0.0045\n",
      "Epoch 00055: early stopping\n"
     ]
    },
    {
     "data": {
      "image/png": "[encoded data removed]",
      "text/plain": [
       "<matplotlib.figure.Figure at 0x29f6abe46d8>"
      ]
     },
     "metadata": {},
     "output_type": "display_data"
    }
   ],
   "source": [
    "model1BN_hist = fit_model(model1BN,data,epochs=100,patience=10)\n",
    "plot_loss([model1_hist,model1BN_hist],['dense1','dense1_BN'])"
   ]
  },
  {
   "cell_type": "markdown",
   "metadata": {},
   "source": [
    "### Model with convolutions"
   ]
  },
  {
   "cell_type": "code",
   "execution_count": 113,
   "metadata": {},
   "outputs": [
    {
     "name": "stdout",
     "output_type": "stream",
     "text": [
      "_________________________________________________________________\n",
      "Layer (type)                 Output Shape              Param #   \n",
      "=================================================================\n",
      "conv2d_15 (Conv2D)           (None, 94, 94, 32)        320       \n",
      "_________________________________________________________________\n",
      "max_pooling2d_15 (MaxPooling (None, 47, 47, 32)        0         \n",
      "_________________________________________________________________\n",
      "conv2d_16 (Conv2D)           (None, 46, 46, 64)        8256      \n",
      "_________________________________________________________________\n",
      "max_pooling2d_16 (MaxPooling (None, 23, 23, 64)        0         \n",
      "_________________________________________________________________\n",
      "conv2d_17 (Conv2D)           (None, 22, 22, 128)       32896     \n",
      "_________________________________________________________________\n",
      "max_pooling2d_17 (MaxPooling (None, 11, 11, 128)       0         \n",
      "_________________________________________________________________\n",
      "flatten_30 (Flatten)         (None, 15488)             0         \n",
      "_________________________________________________________________\n",
      "dense_63 (Dense)             (None, 500)               7744500   \n",
      "_________________________________________________________________\n",
      "dense_64 (Dense)             (None, 100)               50100     \n",
      "_________________________________________________________________\n",
      "dense_65 (Dense)             (None, 30)                3030      \n",
      "=================================================================\n",
      "Total params: 7,839,102\n",
      "Trainable params: 7,839,102\n",
      "Non-trainable params: 0\n",
      "_________________________________________________________________\n",
      "None\n"
     ]
    }
   ],
   "source": [
    "model2 = Sequential()\n",
    "model2.add(Conv2D(32,\n",
    "                 (3, 3),\n",
    "                 activation='relu',\n",
    "                input_shape=INPUT_SHAPE))\n",
    "model2.add(BatchNormalization())\n",
    "model2.add(MaxPooling2D(pool_size=(2, 2)))\n",
    "model2.add(Conv2D(filters=64,\n",
    "                 kernel_size=(2, 2),\n",
    "                 activation='relu'))\n",
    "model2.add(BatchNormalization())\n",
    "model2.add(MaxPooling2D(pool_size=(2, 2)))\n",
    "model2.add(Conv2D(filters=128,\n",
    "                 kernel_size=(2, 2),\n",
    "                 activation='relu'))\n",
    "model2.add(BatchNormalization())\n",
    "model2.add(MaxPooling2D(pool_size=(2, 2)))\n",
    "model2.add(Flatten())\n",
    "model2.add(Dense(500, activation = \"relu\"))\n",
    "model2.add(Dense(100, activation = \"relu\"))\n",
    "model2.add(Dense(30))\n",
    "print(model2.summary())"
   ]
  },
  {
   "cell_type": "code",
   "execution_count": 114,
   "metadata": {},
   "outputs": [
    {
     "name": "stdout",
     "output_type": "stream",
     "text": [
      "Train on 1712 samples, validate on 428 samples\n",
      "Epoch 1/100\n",
      "1712/1712 [==============================] - 6s 4ms/step - loss: 0.0427 - val_loss: 0.0061\n",
      "Epoch 2/100\n",
      "1712/1712 [==============================] - 5s 3ms/step - loss: 0.0053 - val_loss: 0.0044\n",
      "Epoch 3/100\n",
      "1712/1712 [==============================] - 5s 3ms/step - loss: 0.0049 - val_loss: 0.0063\n",
      "Epoch 4/100\n",
      "1712/1712 [==============================] - 5s 3ms/step - loss: 0.0047 - val_loss: 0.0037\n",
      "Epoch 5/100\n",
      "1712/1712 [==============================] - 5s 3ms/step - loss: 0.0041 - val_loss: 0.0042\n",
      "Epoch 6/100\n",
      "1712/1712 [==============================] - 5s 3ms/step - loss: 0.0041 - val_loss: 0.0037\n",
      "Epoch 7/100\n",
      "1712/1712 [==============================] - 5s 3ms/step - loss: 0.0030 - val_loss: 0.0027\n",
      "Epoch 8/100\n",
      "1712/1712 [==============================] - 5s 3ms/step - loss: 0.0062 - val_loss: 0.0043\n",
      "Epoch 9/100\n",
      "1712/1712 [==============================] - 5s 3ms/step - loss: 0.0042 - val_loss: 0.0047\n",
      "Epoch 10/100\n",
      "1712/1712 [==============================] - 5s 3ms/step - loss: 0.0051 - val_loss: 0.0033\n",
      "Epoch 11/100\n",
      "1712/1712 [==============================] - 5s 3ms/step - loss: 0.0031 - val_loss: 0.0036\n",
      "Epoch 12/100\n",
      "1712/1712 [==============================] - 5s 3ms/step - loss: 0.0027 - val_loss: 0.0027\n",
      "Epoch 13/100\n",
      "1712/1712 [==============================] - 5s 3ms/step - loss: 0.0024 - val_loss: 0.0031\n",
      "Epoch 14/100\n",
      "1712/1712 [==============================] - 5s 3ms/step - loss: 0.0020 - val_loss: 0.0019\n",
      "Epoch 15/100\n",
      "1712/1712 [==============================] - 5s 3ms/step - loss: 0.0020 - val_loss: 0.0021\n",
      "Epoch 16/100\n",
      "1712/1712 [==============================] - 5s 3ms/step - loss: 0.0018 - val_loss: 0.0029\n",
      "Epoch 17/100\n",
      "1712/1712 [==============================] - 5s 3ms/step - loss: 0.0018 - val_loss: 0.0025\n",
      "Epoch 18/100\n",
      "1712/1712 [==============================] - 5s 3ms/step - loss: 0.0016 - val_loss: 0.0021\n",
      "Epoch 19/100\n",
      "1712/1712 [==============================] - 5s 3ms/step - loss: 0.0013 - val_loss: 0.0017\n",
      "Epoch 20/100\n",
      "1712/1712 [==============================] - 5s 3ms/step - loss: 0.0014 - val_loss: 0.0021\n",
      "Epoch 21/100\n",
      "1712/1712 [==============================] - 5s 3ms/step - loss: 0.0011 - val_loss: 0.0016\n",
      "Epoch 22/100\n",
      "1712/1712 [==============================] - 5s 3ms/step - loss: 0.0012 - val_loss: 0.0017\n",
      "Epoch 23/100\n",
      "1712/1712 [==============================] - 5s 3ms/step - loss: 0.0012 - val_loss: 0.0017\n",
      "Epoch 24/100\n",
      "1712/1712 [==============================] - 5s 3ms/step - loss: 0.0010 - val_loss: 0.0019\n",
      "Epoch 25/100\n",
      "1712/1712 [==============================] - 5s 3ms/step - loss: 9.8142e-04 - val_loss: 0.0022\n",
      "Epoch 26/100\n",
      "1712/1712 [==============================] - 5s 3ms/step - loss: 0.0010 - val_loss: 0.0019\n",
      "Epoch 27/100\n",
      "1712/1712 [==============================] - 5s 3ms/step - loss: 9.0519e-04 - val_loss: 0.0014\n",
      "Epoch 28/100\n",
      "1712/1712 [==============================] - 5s 3ms/step - loss: 8.9641e-04 - val_loss: 0.0015\n",
      "Epoch 29/100\n",
      "1712/1712 [==============================] - 5s 3ms/step - loss: 8.1969e-04 - val_loss: 0.0016\n",
      "Epoch 30/100\n",
      "1712/1712 [==============================] - 5s 3ms/step - loss: 7.9860e-04 - val_loss: 0.0014\n",
      "Epoch 31/100\n",
      "1712/1712 [==============================] - 5s 3ms/step - loss: 7.6079e-04 - val_loss: 0.0015\n",
      "Epoch 32/100\n",
      "1712/1712 [==============================] - 5s 3ms/step - loss: 6.9882e-04 - val_loss: 0.0013\n",
      "Epoch 33/100\n",
      "1712/1712 [==============================] - 5s 3ms/step - loss: 8.1860e-04 - val_loss: 0.0013\n",
      "Epoch 34/100\n",
      "1712/1712 [==============================] - 5s 3ms/step - loss: 7.8505e-04 - val_loss: 0.0016\n",
      "Epoch 35/100\n",
      "1712/1712 [==============================] - 5s 3ms/step - loss: 6.0965e-04 - val_loss: 0.0013\n",
      "Epoch 36/100\n",
      "1712/1712 [==============================] - 5s 3ms/step - loss: 5.8861e-04 - val_loss: 0.0015\n",
      "Epoch 37/100\n",
      "1712/1712 [==============================] - 5s 3ms/step - loss: 5.4986e-04 - val_loss: 0.0013\n",
      "Epoch 38/100\n",
      "1712/1712 [==============================] - 5s 3ms/step - loss: 5.7130e-04 - val_loss: 0.0014\n",
      "Epoch 39/100\n",
      "1712/1712 [==============================] - 5s 3ms/step - loss: 4.4806e-04 - val_loss: 0.0012\n",
      "Epoch 40/100\n",
      "1712/1712 [==============================] - 5s 3ms/step - loss: 4.7165e-04 - val_loss: 0.0015\n",
      "Epoch 41/100\n",
      "1712/1712 [==============================] - 5s 3ms/step - loss: 4.9786e-04 - val_loss: 0.0019\n",
      "Epoch 42/100\n",
      "1712/1712 [==============================] - 5s 3ms/step - loss: 5.6149e-04 - val_loss: 0.0012\n",
      "Epoch 43/100\n",
      "1712/1712 [==============================] - 5s 3ms/step - loss: 4.5975e-04 - val_loss: 0.0014\n",
      "Epoch 44/100\n",
      "1712/1712 [==============================] - 5s 3ms/step - loss: 3.8759e-04 - val_loss: 0.0012\n",
      "Epoch 45/100\n",
      "1712/1712 [==============================] - 5s 3ms/step - loss: 4.7679e-04 - val_loss: 0.0012\n",
      "Epoch 46/100\n",
      "1712/1712 [==============================] - 5s 3ms/step - loss: 3.3489e-04 - val_loss: 0.0012\n",
      "Epoch 47/100\n",
      "1712/1712 [==============================] - 5s 3ms/step - loss: 4.2603e-04 - val_loss: 0.0012\n",
      "Epoch 48/100\n",
      "1712/1712 [==============================] - 5s 3ms/step - loss: 4.6807e-04 - val_loss: 0.0013\n",
      "Epoch 49/100\n",
      "1712/1712 [==============================] - 5s 3ms/step - loss: 3.5467e-04 - val_loss: 0.0012\n",
      "Epoch 50/100\n",
      "1712/1712 [==============================] - 5s 3ms/step - loss: 3.7821e-04 - val_loss: 0.0013\n",
      "Epoch 51/100\n",
      "1712/1712 [==============================] - 5s 3ms/step - loss: 4.2661e-04 - val_loss: 0.0013\n",
      "Epoch 52/100\n",
      "1712/1712 [==============================] - 5s 3ms/step - loss: 3.0541e-04 - val_loss: 0.0012\n",
      "Epoch 53/100\n",
      "1712/1712 [==============================] - 5s 3ms/step - loss: 3.6592e-04 - val_loss: 0.0013\n",
      "Epoch 54/100\n",
      "1712/1712 [==============================] - 5s 3ms/step - loss: 2.8480e-04 - val_loss: 0.0012\n",
      "Epoch 55/100\n",
      "1712/1712 [==============================] - 5s 3ms/step - loss: 2.1677e-04 - val_loss: 0.0012\n",
      "Epoch 56/100\n",
      "1712/1712 [==============================] - 5s 3ms/step - loss: 8.8432e-04 - val_loss: 0.0014\n",
      "Epoch 57/100\n",
      "1712/1712 [==============================] - 5s 3ms/step - loss: 4.2742e-04 - val_loss: 0.0012\n",
      "Epoch 58/100\n",
      "1712/1712 [==============================] - 5s 3ms/step - loss: 2.4575e-04 - val_loss: 0.0012\n",
      "Epoch 59/100\n",
      "1712/1712 [==============================] - 5s 3ms/step - loss: 2.2092e-04 - val_loss: 0.0012\n",
      "Epoch 60/100\n",
      "1712/1712 [==============================] - 5s 3ms/step - loss: 2.5906e-04 - val_loss: 0.0012\n",
      "Epoch 61/100\n",
      "1712/1712 [==============================] - 5s 3ms/step - loss: 1.9799e-04 - val_loss: 0.0012\n",
      "Epoch 62/100\n",
      "1712/1712 [==============================] - 5s 3ms/step - loss: 2.0716e-04 - val_loss: 0.0012\n",
      "Epoch 63/100\n",
      "1712/1712 [==============================] - 5s 3ms/step - loss: 3.0727e-04 - val_loss: 0.0012\n",
      "Epoch 64/100\n",
      "1712/1712 [==============================] - 5s 3ms/step - loss: 2.2180e-04 - val_loss: 0.00120e-\n",
      "Epoch 65/100\n",
      "1712/1712 [==============================] - 5s 3ms/step - loss: 2.1172e-04 - val_loss: 0.0012\n",
      "Epoch 00065: early stopping\n"
     ]
    }
   ],
   "source": [
    "model2_hist = fit_model(model2,data,epochs=100)"
   ]
  },
  {
   "cell_type": "code",
   "execution_count": 143,
   "metadata": {},
   "outputs": [
    {
     "data": {
      "image/png": "[encoded data removed]",
      "text/plain": [
       "<matplotlib.figure.Figure at 0x29f6b84f588>"
      ]
     },
     "metadata": {},
     "output_type": "display_data"
    }
   ],
   "source": [
    "plot_loss([model1BN_hist, model2_hist],['dense1_BN','CNN'])"
   ]
  },
  {
   "cell_type": "code",
   "execution_count": null,
   "metadata": {
    "collapsed": true
   },
   "outputs": [],
   "source": []
  },
  {
   "cell_type": "code",
   "execution_count": null,
   "metadata": {
    "collapsed": true
   },
   "outputs": [],
   "source": []
  },
  {
   "cell_type": "code",
   "execution_count": null,
   "metadata": {
    "collapsed": true
   },
   "outputs": [],
   "source": []
  },
  {
   "cell_type": "code",
   "execution_count": null,
   "metadata": {
    "collapsed": true
   },
   "outputs": [],
   "source": []
  },
  {
   "cell_type": "code",
   "execution_count": null,
   "metadata": {
    "collapsed": true
   },
   "outputs": [],
   "source": []
  },
  {
   "cell_type": "code",
   "execution_count": null,
   "metadata": {
    "collapsed": true
   },
   "outputs": [],
   "source": []
  },
  {
   "cell_type": "code",
   "execution_count": null,
   "metadata": {
    "collapsed": true
   },
   "outputs": [],
   "source": []
  },
  {
   "cell_type": "code",
   "execution_count": null,
   "metadata": {
    "collapsed": true
   },
   "outputs": [],
   "source": [
    "keras.layers.MaxPooling2D(pool_size=(2, 2), strides=None, padding='valid', data_format=None)\n",
    "\n",
    "keras.layers.Conv2D(filters, kernel_size, strides=(1, 1), padding='valid',\n",
    "                    data_format=None, dilation_rate=(1, 1), activation=None,\n",
    "                    use_bias=True, kernel_initializer='glorot_uniform',\n",
    "                    bias_initializer='zeros', kernel_regularizer=None,\n",
    "                    bias_regularizer=None, activity_regularizer=None,\n",
    "                    kernel_constraint=None, bias_constraint=None)\n",
    "\n",
    "keras.layers.Dense(units, activation=None, use_bias=True, \n",
    "                   kernel_initializer='glorot_uniform', \n",
    "                   bias_initializer='zeros', kernel_regularizer=None, \n",
    "                   bias_regularizer=None, activity_regularizer=None, \n",
    "                   kernel_constraint=None, bias_constraint=None)\n",
    "\n",
    "keras.layers.Dropout(rate, noise_shape=None, seed=None)\n"
   ]
  },
  {
   "cell_type": "code",
   "execution_count": 21,
   "metadata": {
    "collapsed": true
   },
   "outputs": [],
   "source": []
  }
 ],
 "metadata": {
  "kernelspec": {
   "display_name": "Python 3",
   "language": "python",
   "name": "python3"
  },
  "language_info": {
   "codemirror_mode": {
    "name": "ipython",
    "version": 3
   },
   "file_extension": ".py",
   "mimetype": "text/x-python",
   "name": "python",
   "nbconvert_exporter": "python",
   "pygments_lexer": "ipython3",
   "version": "3.6.4"
  }
 },
 "nbformat": 4,
 "nbformat_minor": 2
}
